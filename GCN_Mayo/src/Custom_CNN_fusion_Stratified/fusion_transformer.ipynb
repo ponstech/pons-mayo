{
 "cells": [
  {
   "cell_type": "code",
   "execution_count": 1,
   "metadata": {},
   "outputs": [],
   "source": [
    "import pandas as pd\n",
    "import numpy as np\n",
    "import torch\n",
    "from torch.utils.data import Dataset, DataLoader\n",
    "\n",
    "# Load the CSVs for the three ultrasound modalities\n",
    "df_B_mode_train = pd.read_csv('../Custom_CNN_B_Mode_Stratified/train_features_custom_CNN.csv')\n",
    "df_B_mode_test = pd.read_csv('../Custom_CNN_B_Mode_Stratified/test_features_custom_CNN.csv')\n",
    "\n",
    "df_IE_train = pd.read_csv('../Custom_CNN_IE_Stratified/train_features_custom_CNN.csv')\n",
    "df_IE_test = pd.read_csv('../Custom_CNN_IE_Stratified/test_features_custom_CNN.csv')\n",
    "\n",
    "df_IQ_train = pd.read_csv('../Custom_CNN_IQ_Stratified/train_features_custom_CNN.csv')\n",
    "df_IQ_test = pd.read_csv('../Custom_CNN_IQ_Stratified/test_features_custom_CNN.csv')\n",
    "\n",
    "# ✅ Remove 'Label' columns from df_IE and df_IQ before merging\n",
    "label_column = 'Label'  \n",
    "df_IE_train = df_IE_train.drop(columns=[label_column])\n",
    "df_IE_test = df_IE_test.drop(columns=[label_column])\n",
    "df_IQ_train = df_IQ_train.drop(columns=[label_column])\n",
    "df_IQ_test = df_IQ_test.drop(columns=[label_column])\n",
    "\n",
    "# ✅ Convert labels to torch tensors\n",
    "y_train = torch.tensor(df_B_mode_train['Label'].to_numpy(), dtype=torch.long)\n",
    "y_test = torch.tensor(df_B_mode_test['Label'].to_numpy(), dtype=torch.long)\n",
    "\n",
    "# ✅ Convert feature matrices to float32\n",
    "X_train_B = torch.tensor(df_B_mode_train.drop(columns=['Image', 'Label']).to_numpy(), dtype=torch.float32)\n",
    "X_train_IE = torch.tensor(df_IE_train.drop(columns=['Image']).to_numpy(), dtype=torch.float32)\n",
    "X_train_IQ = torch.tensor(df_IQ_train.drop(columns=['Image']).to_numpy(), dtype=torch.float32)\n",
    "\n",
    "X_test_B = torch.tensor(df_B_mode_test.drop(columns=['Image', 'Label']).to_numpy(), dtype=torch.float32)\n",
    "X_test_IE = torch.tensor(df_IE_test.drop(columns=['Image']).to_numpy(), dtype=torch.float32)\n",
    "X_test_IQ = torch.tensor(df_IQ_test.drop(columns=['Image']).to_numpy(), dtype=torch.float32)\n",
    "\n",
    "# ✅ Stack features into a tensor: (batch_size, 3, 512)\n",
    "X_train = torch.stack([X_train_B, X_train_IE, X_train_IQ], dim=1)\n",
    "X_test = torch.stack([X_test_B, X_test_IE, X_test_IQ], dim=1)\n",
    "\n",
    "# ✅ Track Image Names\n",
    "image_names_train = df_B_mode_train['Image'].to_numpy()\n",
    "image_names_test = df_B_mode_test['Image'].to_numpy()\n",
    "\n",
    "# ✅ Custom Dataset Class\n",
    "class MultiModalDataset(Dataset):\n",
    "    def __init__(self, features, labels, image_names):\n",
    "        self.features = features\n",
    "        self.labels = labels\n",
    "        self.image_names = image_names\n",
    "\n",
    "    def __len__(self):\n",
    "        return len(self.labels)\n",
    "\n",
    "    def __getitem__(self, idx):\n",
    "        return self.features[idx], self.labels[idx], self.image_names[idx]\n",
    "\n",
    "# ✅ Create Datasets and Dataloaders\n",
    "batch_size = 128\n",
    "train_dataset = MultiModalDataset(X_train, y_train, image_names_train)\n",
    "test_dataset = MultiModalDataset(X_test, y_test, image_names_test)\n",
    "\n",
    "train_loader = DataLoader(train_dataset, batch_size=batch_size, shuffle=True)\n",
    "test_loader = DataLoader(test_dataset, batch_size=batch_size, shuffle=False)"
   ]
  },
  {
   "cell_type": "code",
   "execution_count": 2,
   "metadata": {},
   "outputs": [
    {
     "name": "stdout",
     "output_type": "stream",
     "text": [
      "torch.Size([9789, 3, 512]) torch.Size([9789])\n"
     ]
    }
   ],
   "source": [
    "print(X_train.shape, y_train.shape)"
   ]
  },
  {
   "cell_type": "code",
   "execution_count": 3,
   "metadata": {},
   "outputs": [],
   "source": [
    "import torch.nn as nn\n",
    "import torch.nn.functional as F\n",
    "\n",
    "class TransformerFusion(nn.Module):\n",
    "    def __init__(self, feature_dim=512, num_classes=6, num_heads=4, num_layers=2, dropout=0.3):\n",
    "        super(TransformerFusion, self).__init__()\n",
    "\n",
    "        self.proj = nn.Linear(feature_dim, feature_dim)  # Project each modality to a common space\n",
    "\n",
    "        # Transformer Encoder\n",
    "        encoder_layer = nn.TransformerEncoderLayer(d_model=feature_dim, nhead=num_heads, dropout=dropout, batch_first=True)\n",
    "        self.transformer = nn.TransformerEncoder(encoder_layer, num_layers=num_layers)\n",
    "\n",
    "        # Feature Extraction Layer (before classification)\n",
    "        self.feature_extractor = nn.Linear(feature_dim, 256)  # Extract 256-D feature representation\n",
    "\n",
    "        # Classification Head\n",
    "        self.fc = nn.Linear(256, num_classes)\n",
    "\n",
    "    def forward(self, x):\n",
    "        \"\"\"\n",
    "        x: Tensor of shape (batch_size, 3, 512)\n",
    "        \"\"\"\n",
    "        x = self.proj(x)  # Project features to common space\n",
    "        x = self.transformer(x)  # Self-attention over modality features\n",
    "        x = x.mean(dim=1)  # Aggregate across modalities\n",
    "        features = self.feature_extractor(x)  # Extract features\n",
    "        logits = self.fc(features)  # Final classification\n",
    "\n",
    "        return logits\n",
    "\n",
    "    def extract_features(self, x):\n",
    "        \"\"\"\n",
    "        Extracts 256-D feature vector before classification.\n",
    "        \"\"\"\n",
    "        x = self.proj(x)\n",
    "        x = self.transformer(x)\n",
    "        x = x.mean(dim=1)\n",
    "        return self.feature_extractor(x)  # Extracted features\n",
    "\n",
    "# ✅ Initialize Model\n",
    "device = torch.device(\"cuda\" if torch.cuda.is_available() else \"cpu\")\n",
    "model = TransformerFusion(feature_dim=512, num_classes=6).to(device)"
   ]
  },
  {
   "cell_type": "code",
   "execution_count": 4,
   "metadata": {},
   "outputs": [
    {
     "name": "stderr",
     "output_type": "stream",
     "text": [
      "Training:   2%|▏         | 1/50 [00:18<15:10, 18.58s/it]"
     ]
    },
    {
     "name": "stdout",
     "output_type": "stream",
     "text": [
      "Epoch 1: Train Loss=0.9768, Train Acc=75.25%, Val Loss=0.7141, Val Acc=88.63%\n",
      "✅ Best model saved (Epoch 1, Val Acc=88.63%)\n"
     ]
    },
    {
     "name": "stderr",
     "output_type": "stream",
     "text": [
      "Training:   4%|▍         | 2/50 [00:45<18:43, 23.41s/it]"
     ]
    },
    {
     "name": "stdout",
     "output_type": "stream",
     "text": [
      "Epoch 2: Train Loss=0.5450, Train Acc=95.61%, Val Loss=0.6955, Val Acc=89.70%\n",
      "✅ Best model saved (Epoch 2, Val Acc=89.70%)\n"
     ]
    },
    {
     "name": "stderr",
     "output_type": "stream",
     "text": [
      "Training:   6%|▌         | 3/50 [01:08<18:24, 23.50s/it]"
     ]
    },
    {
     "name": "stdout",
     "output_type": "stream",
     "text": [
      "Epoch 3: Train Loss=0.5344, Train Acc=95.85%, Val Loss=0.7001, Val Acc=88.32%\n"
     ]
    },
    {
     "name": "stderr",
     "output_type": "stream",
     "text": [
      "Training:   8%|▊         | 4/50 [01:28<16:49, 21.95s/it]"
     ]
    },
    {
     "name": "stdout",
     "output_type": "stream",
     "text": [
      "Epoch 4: Train Loss=0.5215, Train Acc=96.35%, Val Loss=0.7094, Val Acc=87.90%\n"
     ]
    },
    {
     "name": "stderr",
     "output_type": "stream",
     "text": [
      "Training:  10%|█         | 5/50 [02:08<21:15, 28.35s/it]"
     ]
    },
    {
     "name": "stdout",
     "output_type": "stream",
     "text": [
      "Epoch 5: Train Loss=0.5252, Train Acc=96.38%, Val Loss=0.6929, Val Acc=88.40%\n"
     ]
    },
    {
     "name": "stderr",
     "output_type": "stream",
     "text": [
      "Training:  12%|█▏        | 6/50 [02:38<21:22, 29.14s/it]"
     ]
    },
    {
     "name": "stdout",
     "output_type": "stream",
     "text": [
      "Epoch 6: Train Loss=0.5226, Train Acc=96.48%, Val Loss=0.7493, Val Acc=87.67%\n"
     ]
    },
    {
     "name": "stderr",
     "output_type": "stream",
     "text": [
      "Training:  12%|█▏        | 6/50 [03:00<22:07, 30.16s/it]"
     ]
    },
    {
     "name": "stdout",
     "output_type": "stream",
     "text": [
      "Epoch 7: Train Loss=0.5161, Train Acc=96.76%, Val Loss=0.6775, Val Acc=89.43%\n",
      "⏹ Stopping early at epoch 7. Best Val Acc: 89.70%\n"
     ]
    },
    {
     "name": "stderr",
     "output_type": "stream",
     "text": [
      "\n"
     ]
    },
    {
     "data": {
      "image/png": "[encoded data removed]",
      "text/plain": [
       "<Figure size 1000x500 with 1 Axes>"
      ]
     },
     "metadata": {},
     "output_type": "display_data"
    },
    {
     "name": "stdout",
     "output_type": "stream",
     "text": [
      "✅ Model training complete and saved successfully!\n"
     ]
    }
   ],
   "source": [
    "import torch.optim as optim\n",
    "import matplotlib.pyplot as plt\n",
    "from tqdm import tqdm\n",
    "from sklearn.metrics import accuracy_score\n",
    "\n",
    "# ✅ Define Loss Function & Optimizer\n",
    "criterion = nn.CrossEntropyLoss(label_smoothing=0.1)\n",
    "optimizer = optim.Adam(model.parameters(), lr=5e-4, weight_decay=5e-3)\n",
    "\n",
    "# ✅ Early Stopping Parameters\n",
    "best_val_acc = 0.0\n",
    "patience = 5  # Stop if validation accuracy doesn't improve for 5 epochs\n",
    "counter = 0\n",
    "\n",
    "# ✅ Lists to store loss/accuracy\n",
    "train_losses, val_losses, val_accuracies = [], [], []\n",
    "\n",
    "# ✅ Training Loop\n",
    "num_epochs = 50\n",
    "for epoch in tqdm(range(num_epochs), desc=\"Training\", total=num_epochs):\n",
    "    model.train()\n",
    "    epoch_loss, correct, total = 0, 0, 0\n",
    "\n",
    "    for features, labels, _ in train_loader:\n",
    "        features, labels = features.to(device), labels.to(device)\n",
    "\n",
    "        optimizer.zero_grad()\n",
    "        outputs = model(features)\n",
    "        loss = criterion(outputs, labels)\n",
    "        loss.backward()\n",
    "        optimizer.step()\n",
    "\n",
    "        epoch_loss += loss.item()\n",
    "        correct += (outputs.argmax(1) == labels).sum().item()\n",
    "        total += labels.size(0)\n",
    "\n",
    "    train_acc = 100 * correct / total\n",
    "    train_losses.append(epoch_loss / len(train_loader))\n",
    "\n",
    "    # ✅ Validation Step\n",
    "    model.eval()\n",
    "    val_loss, correct, total = 0, 0, 0\n",
    "\n",
    "    with torch.no_grad():\n",
    "        for features, labels, _ in test_loader:\n",
    "            features, labels = features.to(device), labels.to(device)\n",
    "            outputs = model(features)\n",
    "            loss = criterion(outputs, labels)\n",
    "\n",
    "            val_loss += loss.item()\n",
    "            correct += (outputs.argmax(1) == labels).sum().item()\n",
    "            total += labels.size(0)\n",
    "\n",
    "    val_acc = 100 * correct / total\n",
    "    val_losses.append(val_loss / len(test_loader))\n",
    "    val_accuracies.append(val_acc)\n",
    "\n",
    "    print(f\"Epoch {epoch+1}: Train Loss={train_losses[-1]:.4f}, Train Acc={train_acc:.2f}%, Val Loss={val_losses[-1]:.4f}, Val Acc={val_acc:.2f}%\")\n",
    "\n",
    "    # ✅ Early Stopping\n",
    "    if val_acc > best_val_acc:\n",
    "        best_val_acc = val_acc\n",
    "        counter = 0\n",
    "        torch.save(model.state_dict(), \"best_transformer.pth\")\n",
    "        print(f\"✅ Best model saved (Epoch {epoch+1}, Val Acc={best_val_acc:.2f}%)\")\n",
    "    else:\n",
    "        counter += 1\n",
    "        if counter >= patience:\n",
    "            print(f\"⏹ Stopping early at epoch {epoch+1}. Best Val Acc: {best_val_acc:.2f}%\")\n",
    "            break\n",
    "\n",
    "# ✅ Plot Loss Curves\n",
    "plt.figure(figsize=(10, 5))\n",
    "plt.plot(train_losses, label=\"Train Loss\")\n",
    "plt.plot(val_losses, label=\"Validation Loss\")\n",
    "plt.xlabel(\"Epochs\")\n",
    "plt.ylabel(\"Loss\")\n",
    "plt.legend()\n",
    "plt.title(\"Training vs Validation Loss\")\n",
    "plt.show()\n",
    "\n",
    "print(\"✅ Model training complete and saved successfully!\")"
   ]
  },
  {
   "cell_type": "code",
   "execution_count": 5,
   "metadata": {},
   "outputs": [
    {
     "name": "stderr",
     "output_type": "stream",
     "text": [
      "/var/folders/gk/dsypcq4n5hg6hh5qdss0ly540000gn/T/ipykernel_20807/358846903.py:6: FutureWarning: You are using `torch.load` with `weights_only=False` (the current default value), which uses the default pickle module implicitly. It is possible to construct malicious pickle data which will execute arbitrary code during unpickling (See https://github.com/pytorch/pytorch/blob/main/SECURITY.md#untrusted-models for more details). In a future release, the default value for `weights_only` will be flipped to `True`. This limits the functions that could be executed during unpickling. Arbitrary objects will no longer be allowed to be loaded via this mode unless they are explicitly allowlisted by the user via `torch.serialization.add_safe_globals`. We recommend you start setting `weights_only=True` for any use case where you don't have full control of the loaded file. Please open an issue on GitHub for any issues related to this experimental feature.\n",
      "  model.load_state_dict(torch.load(\"best_transformer.pth\"))\n"
     ]
    },
    {
     "name": "stdout",
     "output_type": "stream",
     "text": [
      "✅ Transformer features and pseudo-label confidences extracted and saved successfully!\n"
     ]
    }
   ],
   "source": [
    "import torch\n",
    "import numpy as np\n",
    "import pandas as pd\n",
    "\n",
    "# ✅ Load the best model and set to evaluation mode\n",
    "model.load_state_dict(torch.load(\"best_transformer.pth\"))  \n",
    "model.eval()\n",
    "\n",
    "# ✅ Initialize storage lists\n",
    "X_train_features, y_train_labels, img_train_names = [], [], []\n",
    "X_test_features, y_test_labels, img_test_names = [], [], []\n",
    "\n",
    "pseudo_probs_train, pseudo_probs_test = [], []  # Store full class probabilities\n",
    "\n",
    "# ✅ Extract Training Features\n",
    "with torch.no_grad():\n",
    "    for features, labels, img_names in train_loader:\n",
    "        features, labels = features.to(device), labels.to(device)\n",
    "\n",
    "        extracted_features = model.extract_features(features)  # Extract 256-D features\n",
    "        X_train_features.append(extracted_features.cpu().numpy())\n",
    "        y_train_labels.append(labels.cpu().numpy())\n",
    "        img_train_names.extend(img_names)  \n",
    "\n",
    "        # ✅ Compute pseudo-probabilities\n",
    "        outputs = torch.softmax(model(features), dim=1)\n",
    "        pseudo_probs_train.append(outputs.cpu().numpy())\n",
    "\n",
    "# ✅ Extract Test Features\n",
    "    for features, labels, img_names in test_loader:\n",
    "        features, labels = features.to(device), labels.to(device)\n",
    "\n",
    "        extracted_features = model.extract_features(features)\n",
    "        X_test_features.append(extracted_features.cpu().numpy())\n",
    "        y_test_labels.append(labels.cpu().numpy())\n",
    "        img_test_names.extend(img_names)  \n",
    "\n",
    "        outputs = torch.softmax(model(features), dim=1)\n",
    "        pseudo_probs_test.append(outputs.cpu().numpy())\n",
    "\n",
    "# ✅ Convert to NumPy arrays\n",
    "X_train_features = np.concatenate(X_train_features)\n",
    "y_train_labels = np.concatenate(y_train_labels)\n",
    "X_test_features = np.concatenate(X_test_features)\n",
    "y_test_labels = np.concatenate(y_test_labels)\n",
    "\n",
    "pseudo_probs_train = np.concatenate(pseudo_probs_train)  # Shape: (num_samples, num_classes)\n",
    "pseudo_probs_test = np.concatenate(pseudo_probs_test)    # Shape: (num_samples, num_classes)\n",
    "\n",
    "# ✅ Save Features & Probabilities in CSV\n",
    "df_train_features = pd.DataFrame(X_train_features)\n",
    "df_train_features['Label'] = y_train_labels\n",
    "df_train_features['Image'] = img_train_names\n",
    "\n",
    "for i in range(pseudo_probs_train.shape[1]):\n",
    "    df_train_features[f'Pseudo_Prob_Class_{i}'] = pseudo_probs_train[:, i]\n",
    "\n",
    "df_train_features.to_csv('train_features_transformer.csv', index=False)\n",
    "\n",
    "df_test_features = pd.DataFrame(X_test_features)\n",
    "df_test_features['Label'] = y_test_labels\n",
    "df_test_features['Image'] = img_test_names\n",
    "\n",
    "for i in range(pseudo_probs_test.shape[1]):\n",
    "    df_test_features[f'Pseudo_Prob_Class_{i}'] = pseudo_probs_test[:, i]\n",
    "\n",
    "df_test_features.to_csv('test_features_transformer.csv', index=False)\n",
    "\n",
    "print(\"✅ Transformer features and pseudo-label confidences extracted and saved successfully!\")"
   ]
  },
  {
   "cell_type": "code",
   "execution_count": null,
   "metadata": {},
   "outputs": [],
   "source": []
  }
 ],
 "metadata": {
  "kernelspec": {
   "display_name": "gcnn_project",
   "language": "python",
   "name": "python3"
  },
  "language_info": {
   "codemirror_mode": {
    "name": "ipython",
    "version": 3
   },
   "file_extension": ".py",
   "mimetype": "text/x-python",
   "name": "python",
   "nbconvert_exporter": "python",
   "pygments_lexer": "ipython3",
   "version": "3.9.21"
  }
 },
 "nbformat": 4,
 "nbformat_minor": 2
}
