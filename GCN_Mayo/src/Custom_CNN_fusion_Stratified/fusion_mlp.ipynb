{
 "cells": [
  {
   "cell_type": "code",
   "execution_count": 6,
   "metadata": {},
   "outputs": [
    {
     "name": "stdout",
     "output_type": "stream",
     "text": [
      "Train Data Shape: (29367, 514)\n",
      "Test Data Shape: (7833, 514)\n",
      "🔥 Multi-modality datasets saved successfully!\n",
      "Train merged shape: (9789, 1538)\n",
      "Test merged shape: (2611, 1538)\n"
     ]
    }
   ],
   "source": [
    "import pandas as pd\n",
    "import numpy as np\n",
    "\n",
    "# Load the csv containing the 512-D vectors for the B-Mode images\n",
    "df_B_mode_train = pd.read_csv('../Custom_CNN_B_Mode_Stratified/train_features_custom_CNN.csv')\n",
    "df_B_mode_test = pd.read_csv('../Custom_CNN_B_Mode_Stratified/test_features_custom_CNN.csv')\n",
    "\n",
    "# Load the csv containing the 512-D vectors for the Enhancement images\n",
    "df_IE_train = pd.read_csv('../Custom_CNN_IE_Stratified/train_features_custom_CNN.csv')\n",
    "df_IE_test = pd.read_csv('../Custom_CNN_IE_Stratified/test_features_custom_CNN.csv')\n",
    "\n",
    "# Load the csv containing the 512-D vectors for the Quality Improved images\n",
    "df_IQ_train = pd.read_csv('../Custom_CNN_IQ_Stratified/train_features_custom_CNN.csv')\n",
    "df_IQ_test = pd.read_csv('../Custom_CNN_IQ_Stratified/test_features_custom_CNN.csv')\n",
    "\n",
    "#############################################################\n",
    "######## This is for combining the datasets vertically ########\n",
    "# ✅ Concatenate train sets vertically\n",
    "df_train_combined = pd.concat([df_B_mode_train, df_IE_train, df_IQ_train], axis=0).reset_index(drop=True)\n",
    "\n",
    "# ✅ Concatenate test sets vertically\n",
    "df_test_combined = pd.concat([df_B_mode_test, df_IE_test, df_IQ_test], axis=0).reset_index(drop=True)\n",
    "\n",
    "# ✅ Print shape to verify\n",
    "print(f\"Train Data Shape: {df_train_combined.shape}\")\n",
    "print(f\"Test Data Shape: {df_test_combined.shape}\")\n",
    "\n",
    "# ✅ Save concatenated datasets\n",
    "df_train_combined.to_csv('train_features_multi_modal.csv', index=False)\n",
    "df_test_combined.to_csv('test_features_multi_modal.csv', index=False)\n",
    "\n",
    "print(\"🔥 Multi-modality datasets saved successfully!\")\n",
    "################################################################\n",
    "################################################################\n",
    "\n",
    "\n",
    "###############################################################\n",
    "######## This is for merging the datasets horizontally ########\n",
    "# Get feature columns (excluding 'Image' and 'Label')\n",
    "feature_columns_B_mode = df_B_mode_train.columns[1:-1]  # 512 features\n",
    "feature_columns_IE = df_IE_train.columns[1:-1]  # 512 features\n",
    "feature_columns_IQ = df_IQ_train.columns[1:-1]  # 512 features\n",
    "label_column = df_B_mode_train.columns[-1]  # 'Label' column\n",
    "\n",
    "### ✅ Remove 'Label' columns from df_IE and df_IQ before merging ###\n",
    "df_IE_train = df_IE_train.drop(columns=[label_column])\n",
    "df_IE_test = df_IE_test.drop(columns=[label_column])\n",
    "df_IQ_train = df_IQ_train.drop(columns=[label_column])\n",
    "df_IQ_test = df_IQ_test.drop(columns=[label_column])\n",
    "\n",
    "# ✅ Merge train features using 'Image' as reference and retain Image column\n",
    "df_train_merged = df_B_mode_train[['Image', label_column]].copy()  # Keep 'Image' and 'Label'\n",
    "df_train_merged = df_train_merged.merge(df_B_mode_train[['Image'] + list(feature_columns_B_mode)], on='Image', how='left')\n",
    "df_train_merged = df_train_merged.merge(df_IE_train[['Image'] + list(feature_columns_IE)], on='Image', how='left')\n",
    "df_train_merged = df_train_merged.merge(df_IQ_train[['Image'] + list(feature_columns_IQ)], on='Image', how='left')\n",
    "\n",
    "# ✅ Merge test features using 'Image' as reference and retain Image column\n",
    "df_test_merged = df_B_mode_test[['Image', label_column]].copy()  # Keep 'Image' and 'Label'\n",
    "df_test_merged = df_test_merged.merge(df_B_mode_test[['Image'] + list(feature_columns_B_mode)], on='Image', how='left')\n",
    "df_test_merged = df_test_merged.merge(df_IE_test[['Image'] + list(feature_columns_IE)], on='Image', how='left')\n",
    "df_test_merged = df_test_merged.merge(df_IQ_test[['Image'] + list(feature_columns_IQ)], on='Image', how='left')\n",
    "\n",
    "# ✅ Ensure no duplicate Image or Label columns exist\n",
    "df_train_merged = df_train_merged.loc[:, ~df_train_merged.columns.duplicated()]\n",
    "df_test_merged = df_test_merged.loc[:, ~df_test_merged.columns.duplicated()]\n",
    "\n",
    "# ✅ Save the merged files WITH Image Names\n",
    "df_train_merged.to_csv('train_features_merged.csv', index=False)\n",
    "df_test_merged.to_csv('test_features_merged.csv', index=False)\n",
    "\n",
    "# ✅ Check final shape\n",
    "print(f\"Train merged shape: {df_train_merged.shape}\")  # Expected: (Num_Train_Samples, 1537) (Image + 1536 Features + Label)\n",
    "print(f\"Test merged shape: {df_test_merged.shape}\")  # Expected: (Num_Test_Samples, 1537) (Image + 1536 Features + Label)\n",
    "################################################################\n",
    "################################################################"
   ]
  },
  {
   "cell_type": "code",
   "execution_count": 9,
   "metadata": {},
   "outputs": [],
   "source": [
    "from torch.utils.data import Dataset\n",
    "\n",
    "# ✅ Custom Dataset Class that includes Image Names\n",
    "class CustomFeatureDataset(Dataset):\n",
    "    def __init__(self, features, labels, image_names):\n",
    "        self.features = features\n",
    "        self.labels = labels\n",
    "        self.image_names = image_names\n",
    "\n",
    "    def __len__(self):\n",
    "        return len(self.labels)\n",
    "\n",
    "    def __getitem__(self, idx):\n",
    "        x = self.features[idx]\n",
    "        y = self.labels[idx]\n",
    "        img_name = self.image_names[idx]\n",
    "        return x, y, img_name  # ✅ Return image name with features and label"
   ]
  },
  {
   "cell_type": "code",
   "execution_count": 10,
   "metadata": {},
   "outputs": [],
   "source": [
    "import torch\n",
    "\n",
    "# Convert labels to integers and ensure correct dtype (torch.long for classification)\n",
    "y_train = torch.tensor(df_train_merged['Label'].to_numpy(), dtype=torch.long)\n",
    "y_test = torch.tensor(df_test_merged['Label'].to_numpy(), dtype=torch.long)\n",
    "\n",
    "# Convert feature matrices to float32 (important for model computations)\n",
    "X_train = torch.tensor(df_train_merged.drop(columns=['Image', 'Label']).to_numpy(), dtype=torch.float32)\n",
    "X_test = torch.tensor(df_test_merged.drop(columns=['Image', 'Label']).to_numpy(), dtype=torch.float32)\n",
    "\n",
    "# ✅ Track Image Names as Numpy Arrays\n",
    "image_names_train = df_train_merged['Image'].to_numpy()\n",
    "image_names_test = df_test_merged['Image'].to_numpy()\n",
    "\n",
    "# ✅ Create the train and test datasets using the Custom Dataset Class\n",
    "train_dataset = CustomFeatureDataset(X_train, y_train, image_names_train)\n",
    "test_dataset = CustomFeatureDataset(X_test, y_test, image_names_test)\n",
    "\n",
    "# ✅ Create the train and test data loaders\n",
    "batch_size = 128\n",
    "train_loader = torch.utils.data.DataLoader(dataset=train_dataset, batch_size=batch_size, shuffle=True)\n",
    "test_loader = torch.utils.data.DataLoader(dataset=test_dataset, batch_size=batch_size, shuffle=False)"
   ]
  },
  {
   "cell_type": "markdown",
   "metadata": {},
   "source": [
    "### Train MLP with the concatenated features:\n",
    "- The MLP acts as a feature projector, reducing redundancy and learning meaningful interactions between modalities."
   ]
  },
  {
   "cell_type": "code",
   "execution_count": 11,
   "metadata": {},
   "outputs": [
    {
     "name": "stderr",
     "output_type": "stream",
     "text": [
      "Training:   2%|▏         | 1/50 [00:01<00:55,  1.13s/it]"
     ]
    },
    {
     "name": "stdout",
     "output_type": "stream",
     "text": [
      "Epoch 1: Train Loss=1.2086, Train Acc=66.03%, Val Loss=0.8553, Val Acc=87.25%\n",
      "✅ Best model saved (Epoch 1, Val Acc=87.25%)\n"
     ]
    },
    {
     "name": "stderr",
     "output_type": "stream",
     "text": [
      "Training:   4%|▍         | 2/50 [00:02<00:49,  1.02s/it]"
     ]
    },
    {
     "name": "stdout",
     "output_type": "stream",
     "text": [
      "Epoch 2: Train Loss=0.7948, Train Acc=87.23%, Val Loss=0.7386, Val Acc=89.16%\n",
      "✅ Best model saved (Epoch 2, Val Acc=89.16%)\n"
     ]
    },
    {
     "name": "stderr",
     "output_type": "stream",
     "text": [
      "Training:   6%|▌         | 3/50 [00:03<00:48,  1.04s/it]"
     ]
    },
    {
     "name": "stdout",
     "output_type": "stream",
     "text": [
      "Epoch 3: Train Loss=0.7050, Train Acc=90.64%, Val Loss=0.6922, Val Acc=90.16%\n",
      "✅ Best model saved (Epoch 3, Val Acc=90.16%)\n"
     ]
    },
    {
     "name": "stderr",
     "output_type": "stream",
     "text": [
      "Training:   8%|▊         | 4/50 [00:04<00:45,  1.01it/s]"
     ]
    },
    {
     "name": "stdout",
     "output_type": "stream",
     "text": [
      "Epoch 4: Train Loss=0.6595, Train Acc=92.67%, Val Loss=0.6729, Val Acc=90.23%\n",
      "✅ Best model saved (Epoch 4, Val Acc=90.23%)\n"
     ]
    },
    {
     "name": "stderr",
     "output_type": "stream",
     "text": [
      "Training:  10%|█         | 5/50 [00:04<00:42,  1.06it/s]"
     ]
    },
    {
     "name": "stdout",
     "output_type": "stream",
     "text": [
      "Epoch 5: Train Loss=0.6376, Train Acc=93.46%, Val Loss=0.6658, Val Acc=90.46%\n",
      "✅ Best model saved (Epoch 5, Val Acc=90.46%)\n"
     ]
    },
    {
     "name": "stderr",
     "output_type": "stream",
     "text": [
      "Training:  12%|█▏        | 6/50 [00:05<00:40,  1.09it/s]"
     ]
    },
    {
     "name": "stdout",
     "output_type": "stream",
     "text": [
      "Epoch 6: Train Loss=0.6197, Train Acc=94.40%, Val Loss=0.6587, Val Acc=90.77%\n",
      "✅ Best model saved (Epoch 6, Val Acc=90.77%)\n"
     ]
    },
    {
     "name": "stderr",
     "output_type": "stream",
     "text": [
      "Training:  14%|█▍        | 7/50 [00:06<00:38,  1.12it/s]"
     ]
    },
    {
     "name": "stdout",
     "output_type": "stream",
     "text": [
      "Epoch 7: Train Loss=0.6077, Train Acc=94.81%, Val Loss=0.6565, Val Acc=90.54%\n"
     ]
    },
    {
     "name": "stderr",
     "output_type": "stream",
     "text": [
      "Training:  16%|█▌        | 8/50 [00:07<00:37,  1.13it/s]"
     ]
    },
    {
     "name": "stdout",
     "output_type": "stream",
     "text": [
      "Epoch 8: Train Loss=0.6045, Train Acc=94.89%, Val Loss=0.6563, Val Acc=90.85%\n",
      "✅ Best model saved (Epoch 8, Val Acc=90.85%)\n"
     ]
    },
    {
     "name": "stderr",
     "output_type": "stream",
     "text": [
      "Training:  18%|█▊        | 9/50 [00:08<00:41,  1.02s/it]"
     ]
    },
    {
     "name": "stdout",
     "output_type": "stream",
     "text": [
      "Epoch 9: Train Loss=0.5951, Train Acc=95.00%, Val Loss=0.6544, Val Acc=90.69%\n"
     ]
    },
    {
     "name": "stderr",
     "output_type": "stream",
     "text": [
      "Training:  20%|██        | 10/50 [00:09<00:42,  1.05s/it]"
     ]
    },
    {
     "name": "stdout",
     "output_type": "stream",
     "text": [
      "Epoch 10: Train Loss=0.5879, Train Acc=95.45%, Val Loss=0.6518, Val Acc=90.96%\n",
      "✅ Best model saved (Epoch 10, Val Acc=90.96%)\n"
     ]
    },
    {
     "name": "stderr",
     "output_type": "stream",
     "text": [
      "Training:  22%|██▏       | 11/50 [00:10<00:40,  1.04s/it]"
     ]
    },
    {
     "name": "stdout",
     "output_type": "stream",
     "text": [
      "Epoch 11: Train Loss=0.5831, Train Acc=95.48%, Val Loss=0.6572, Val Acc=90.35%\n"
     ]
    },
    {
     "name": "stderr",
     "output_type": "stream",
     "text": [
      "Training:  24%|██▍       | 12/50 [00:12<00:41,  1.09s/it]"
     ]
    },
    {
     "name": "stdout",
     "output_type": "stream",
     "text": [
      "Epoch 12: Train Loss=0.5811, Train Acc=95.85%, Val Loss=0.6524, Val Acc=90.77%\n"
     ]
    },
    {
     "name": "stderr",
     "output_type": "stream",
     "text": [
      "Training:  26%|██▌       | 13/50 [00:13<00:38,  1.04s/it]"
     ]
    },
    {
     "name": "stdout",
     "output_type": "stream",
     "text": [
      "Epoch 13: Train Loss=0.5748, Train Acc=96.10%, Val Loss=0.6550, Val Acc=90.85%\n"
     ]
    },
    {
     "name": "stderr",
     "output_type": "stream",
     "text": [
      "Training:  28%|██▊       | 14/50 [00:13<00:36,  1.00s/it]"
     ]
    },
    {
     "name": "stdout",
     "output_type": "stream",
     "text": [
      "Epoch 14: Train Loss=0.5715, Train Acc=96.11%, Val Loss=0.6492, Val Acc=90.69%\n"
     ]
    },
    {
     "name": "stderr",
     "output_type": "stream",
     "text": [
      "Training:  28%|██▊       | 14/50 [00:14<00:38,  1.06s/it]"
     ]
    },
    {
     "name": "stdout",
     "output_type": "stream",
     "text": [
      "Epoch 15: Train Loss=0.5661, Train Acc=96.23%, Val Loss=0.6488, Val Acc=90.81%\n",
      "⏹ Stopping early at epoch 15. Best Val Acc: 90.96%\n"
     ]
    },
    {
     "name": "stderr",
     "output_type": "stream",
     "text": [
      "\n"
     ]
    },
    {
     "data": {
      "image/png": "[encoded data removed]",
      "text/plain": [
       "<Figure size 1000x500 with 1 Axes>"
      ]
     },
     "metadata": {},
     "output_type": "display_data"
    },
    {
     "name": "stdout",
     "output_type": "stream",
     "text": [
      "✅ Model training complete and saved successfully!\n"
     ]
    }
   ],
   "source": [
    "import torch\n",
    "import torch.nn as nn\n",
    "import torch.optim as optim\n",
    "import torch.nn.functional as F\n",
    "import matplotlib.pyplot as plt\n",
    "from tqdm import tqdm\n",
    "from sklearn.utils.class_weight import compute_class_weight\n",
    "import numpy as np\n",
    "import pandas as pd\n",
    "from sklearn.metrics import accuracy_score\n",
    "\n",
    "\n",
    "\n",
    "# ✅ MLP Model\n",
    "class MLP(nn.Module):\n",
    "    def __init__(self, input_dim=1536, hidden_dim1=512, hidden_dim2=256, output_dim=6):\n",
    "        super(MLP, self).__init__()\n",
    "        self.fc1 = nn.Linear(input_dim, hidden_dim1)\n",
    "        self.bn1 = nn.BatchNorm1d(hidden_dim1)\n",
    "        self.fc2 = nn.Linear(hidden_dim1, hidden_dim2)\n",
    "        self.bn2 = nn.BatchNorm1d(hidden_dim2)\n",
    "        self.fc3 = nn.Linear(hidden_dim2, output_dim)\n",
    "        self.relu = nn.ReLU()\n",
    "        self.dropout = nn.Dropout(0.5)\n",
    "   \n",
    "    def forward(self, x):\n",
    "        x = self.relu(self.bn1(self.fc1(x)))\n",
    "        x = self.dropout(x)\n",
    "        x = self.relu(self.bn2(self.fc2(x)))\n",
    "        x = self.dropout(x)\n",
    "\n",
    "        return self.fc3(x)\n",
    "\n",
    "    def extract_features(self, x):\n",
    "        \"\"\"Extracts 256-dimensional feature vector before the final classification layer.\"\"\"\n",
    "        x = self.relu(self.bn1(self.fc1(x)))\n",
    "        x = self.dropout(x)\n",
    "        x = self.fc2(x)  # Extracted feature layer\n",
    "        return x\n",
    "    \n",
    "# Define the device\n",
    "device = torch.device('cuda' if torch.cuda.is_available() else 'cpu')\n",
    "\n",
    "\n",
    "# ✅ Define the model, loss function and optimizer\n",
    "input_dim = 1536  # 1536 features (512 * 3)\n",
    "hidden_dim1 = 512\n",
    "hidden_dim2 = 256\n",
    "output_dim = 6  # 6 classes\n",
    "learning_rate = 0.0005\n",
    "\n",
    "model = MLP(input_dim, hidden_dim1, hidden_dim2, output_dim).to(device)\n",
    "\n",
    "# ✅ Define loss function with class weights\n",
    "criterion = nn.CrossEntropyLoss(label_smoothing=0.1)\n",
    "optimizer = optim.SGD(model.parameters(), lr=learning_rate, momentum=0.9, weight_decay=5e-3)\n",
    "\n",
    "# ✅ Early stopping parameters (based on validation accuracy)\n",
    "best_val_acc = 0.0\n",
    "patience = 5  # Stop if validation accuracy doesn't improve for 10 epochs\n",
    "counter = 0\n",
    "\n",
    "# ✅ Lists to store losses\n",
    "train_losses = []\n",
    "val_losses = []\n",
    "\n",
    "# ✅ Training loop\n",
    "num_epochs = 50  # Set high, but will stop early if necessary\n",
    "\n",
    "for epoch in tqdm(range(num_epochs), desc=\"Training\", total=num_epochs):\n",
    "    model.train()\n",
    "    epoch_loss = 0\n",
    "    correct = 0\n",
    "    total = 0\n",
    "\n",
    "    # Training step\n",
    "    for images, labels, img_names in train_loader:\n",
    "        images, labels = images.to(device), labels.to(device)\n",
    "\n",
    "        optimizer.zero_grad()\n",
    "        outputs = model(images)\n",
    "        loss = criterion(outputs, labels)\n",
    "        loss.backward()\n",
    "        optimizer.step()\n",
    "\n",
    "        epoch_loss += loss.item()\n",
    "        _, predicted = torch.max(outputs, 1)\n",
    "        correct += (predicted == labels).sum().item()\n",
    "        total += labels.size(0)\n",
    "\n",
    "    # Compute training accuracy\n",
    "    train_acc = 100 * correct / total\n",
    "    train_losses.append(epoch_loss / len(train_loader))\n",
    "\n",
    "    # Validation step\n",
    "    model.eval()\n",
    "    val_loss = 0\n",
    "    correct = 0\n",
    "    total = 0\n",
    "\n",
    "    with torch.no_grad():\n",
    "        for images, labels, img_names in test_loader:\n",
    "            images, labels = images.to(device), labels.to(device)\n",
    "            outputs = model(images)\n",
    "            loss = criterion(outputs, labels)\n",
    "\n",
    "            val_loss += loss.item()\n",
    "            _, predicted = torch.max(outputs, 1)\n",
    "            correct += (predicted == labels).sum().item()\n",
    "            total += labels.size(0)\n",
    "\n",
    "    # Compute validation accuracy\n",
    "    val_acc = 100 * correct / total\n",
    "    val_losses.append(val_loss / len(test_loader))\n",
    "\n",
    "    print(f\"Epoch {epoch+1}: Train Loss={train_losses[-1]:.4f}, Train Acc={train_acc:.2f}%, Val Loss={val_losses[-1]:.4f}, Val Acc={val_acc:.2f}%\")\n",
    "\n",
    "    # ✅ Early Stopping Logic (Based on Validation Accuracy)\n",
    "    if val_acc > best_val_acc:\n",
    "        best_val_acc = val_acc\n",
    "        counter = 0\n",
    "        torch.save(model.state_dict(), \"best_mlp.pth\")  # Save best model\n",
    "        print(f\"✅ Best model saved (Epoch {epoch+1}, Val Acc={best_val_acc:.2f}%)\")\n",
    "    else:\n",
    "        counter += 1\n",
    "        if counter >= patience:\n",
    "            print(f\"⏹ Stopping early at epoch {epoch+1}. Best Val Acc: {best_val_acc:.2f}%\")\n",
    "            break\n",
    "\n",
    "# ✅ Plot Loss Curves\n",
    "plt.figure(figsize=(10, 5))\n",
    "plt.plot(train_losses, label=\"Train Loss\")\n",
    "plt.plot(val_losses, label=\"Validation Loss\")\n",
    "plt.xlabel(\"Epochs\")\n",
    "plt.ylabel(\"Loss\")\n",
    "plt.legend()\n",
    "plt.title(\"Training vs Validation Loss\")\n",
    "plt.show()\n",
    "\n",
    "print(\"✅ Model training complete and saved successfully!\")"
   ]
  },
  {
   "cell_type": "code",
   "execution_count": 12,
   "metadata": {},
   "outputs": [
    {
     "name": "stderr",
     "output_type": "stream",
     "text": [
      "/var/folders/gk/dsypcq4n5hg6hh5qdss0ly540000gn/T/ipykernel_3319/3106306196.py:6: FutureWarning: You are using `torch.load` with `weights_only=False` (the current default value), which uses the default pickle module implicitly. It is possible to construct malicious pickle data which will execute arbitrary code during unpickling (See https://github.com/pytorch/pytorch/blob/main/SECURITY.md#untrusted-models for more details). In a future release, the default value for `weights_only` will be flipped to `True`. This limits the functions that could be executed during unpickling. Arbitrary objects will no longer be allowed to be loaded via this mode unless they are explicitly allowlisted by the user via `torch.serialization.add_safe_globals`. We recommend you start setting `weights_only=True` for any use case where you don't have full control of the loaded file. Please open an issue on GitHub for any issues related to this experimental feature.\n",
      "  model.load_state_dict(torch.load(\"best_mlp.pth\"))  # Ensure best model is used\n"
     ]
    },
    {
     "name": "stdout",
     "output_type": "stream",
     "text": [
      "✅ MLP features and all class pseudo-label confidences extracted and saved successfully!\n"
     ]
    }
   ],
   "source": [
    "import torch\n",
    "import numpy as np\n",
    "import pandas as pd\n",
    "\n",
    "# Load the best model and extract features\n",
    "model.load_state_dict(torch.load(\"best_mlp.pth\"))  # Ensure best model is used\n",
    "model.eval()\n",
    "\n",
    "# ✅ Extract MLP Features with Image Names Preserved\n",
    "X_train_features = []\n",
    "y_train_labels = []\n",
    "img_train_names = []  # Track Image Names\n",
    "X_test_features = []\n",
    "y_test_labels = []\n",
    "img_test_names = []  # Track Image Names\n",
    "\n",
    "pseudo_probs_train = []  # ✅ Store all class probabilities (shape: num_samples x num_classes)\n",
    "pseudo_probs_test = []   # ✅ Store all class probabilities (shape: num_samples x num_classes)\n",
    "\n",
    "with torch.no_grad():\n",
    "    for images, labels, img_names in train_loader:\n",
    "        images = images.to(device)\n",
    "        features = model.extract_features(images)\n",
    "        X_train_features.append(features.cpu().numpy())\n",
    "        y_train_labels.append(labels.cpu().numpy())\n",
    "        img_train_names.extend(img_names)  # ✅ Track corresponding shuffled image names\n",
    "        \n",
    "        # ✅ Get pseudo labels and confidence scores for training data (store all class probabilities)\n",
    "        outputs = torch.softmax(model(images), dim=1)  # Convert logits to probabilities\n",
    "        pseudo_probs_train.append(outputs.cpu().numpy())  # ✅ Store full probability distribution\n",
    "\n",
    "    for images, labels, img_names in test_loader:\n",
    "        images = images.to(device)\n",
    "        features = model.extract_features(images)\n",
    "        X_test_features.append(features.cpu().numpy())\n",
    "        y_test_labels.append(labels.cpu().numpy())\n",
    "        img_test_names.extend(img_names)  # ✅ Track corresponding shuffled image names\n",
    "        \n",
    "        # ✅ Get pseudo labels and confidence scores for test data (store all class probabilities)\n",
    "        outputs = torch.softmax(model(images), dim=1)  # Convert logits to probabilities\n",
    "        pseudo_probs_test.append(outputs.cpu().numpy())  # ✅ Store full probability distribution\n",
    "\n",
    "# ✅ Convert to NumPy arrays\n",
    "X_train_features = np.concatenate(X_train_features)\n",
    "y_train_labels = np.concatenate(y_train_labels)\n",
    "X_test_features = np.concatenate(X_test_features)\n",
    "y_test_labels = np.concatenate(y_test_labels)\n",
    "\n",
    "pseudo_probs_train = np.concatenate(pseudo_probs_train)  # Shape: (num_samples, num_classes)\n",
    "pseudo_probs_test = np.concatenate(pseudo_probs_test)    # Shape: (num_samples, num_classes)\n",
    "\n",
    "# ✅ Save the extracted features as CSV with correctly matched labels AND Image Names\n",
    "df_train_features = pd.DataFrame(X_train_features)\n",
    "df_train_features['Label'] = y_train_labels\n",
    "df_train_features['Image'] = img_train_names  # ✅ Image names included\n",
    "# ✅ Add all 6 class probabilities\n",
    "for i in range(pseudo_probs_train.shape[1]):\n",
    "    df_train_features[f'Pseudo_Prob_Class_{i}'] = pseudo_probs_train[:, i]\n",
    "\n",
    "df_train_features.to_csv('train_features_mlp.csv', index=False)\n",
    "\n",
    "df_test_features = pd.DataFrame(X_test_features)\n",
    "df_test_features['Label'] = y_test_labels\n",
    "df_test_features['Image'] = img_test_names  # ✅ Image names included\n",
    "# ✅ Add all 6 class probabilities\n",
    "for i in range(pseudo_probs_test.shape[1]):\n",
    "    df_test_features[f'Pseudo_Prob_Class_{i}'] = pseudo_probs_test[:, i]\n",
    "\n",
    "df_test_features.to_csv('test_features_mlp.csv', index=False)\n",
    "\n",
    "print(\"✅ MLP features and all class pseudo-label confidences extracted and saved successfully!\")"
   ]
  }
 ],
 "metadata": {
  "kernelspec": {
   "display_name": "gcnn_project",
   "language": "python",
   "name": "python3"
  },
  "language_info": {
   "codemirror_mode": {
    "name": "ipython",
    "version": 3
   },
   "file_extension": ".py",
   "mimetype": "text/x-python",
   "name": "python",
   "nbconvert_exporter": "python",
   "pygments_lexer": "ipython3",
   "version": "3.9.21"
  }
 },
 "nbformat": 4,
 "nbformat_minor": 2
}
