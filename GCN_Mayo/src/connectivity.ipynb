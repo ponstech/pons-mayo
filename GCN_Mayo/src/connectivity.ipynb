{
 "cells": [
  {
   "cell_type": "code",
   "execution_count": 1,
   "metadata": {},
   "outputs": [
    {
     "name": "stdout",
     "output_type": "stream",
     "text": [
      "Train feature shape:  (9789, 256)\n",
      "Test feature shape:  (2611, 256)\n",
      "[[0.00463025 0.00625174 0.02074885 0.00350867 0.00772718 0.9571333 ]\n",
      " [0.00361925 0.00516757 0.0101166  0.00952851 0.00897152 0.96259654]\n",
      " [0.00272954 0.00753371 0.01087029 0.00805031 0.00639741 0.96441877]\n",
      " ...\n",
      " [0.01905265 0.92608374 0.02209971 0.00531116 0.02015011 0.00730256]\n",
      " [0.01536749 0.9254944  0.02625894 0.00545662 0.02040335 0.00701927]\n",
      " [0.01335277 0.02010148 0.8697333  0.00876164 0.01331125 0.07473968]]\n"
     ]
    }
   ],
   "source": [
    "# Import saved ResNet features\n",
    "import numpy as np\n",
    "import pandas as pd\n",
    "\n",
    "\n",
    "# Load Train Features\n",
    "train_features_df = pd.read_csv('Custom_CNN_fusion_Stratified/train_features_transformer.csv')\n",
    "train_labels = train_features_df['Label'].values\n",
    "groups_train = train_features_df['Image'].str[:].values  # ✅ Extract first 12 chars if patient ID\n",
    "pseudo_probs_train = train_features_df[\n",
    "    ['Pseudo_Prob_Class_0', 'Pseudo_Prob_Class_1', 'Pseudo_Prob_Class_2', \n",
    "     'Pseudo_Prob_Class_3', 'Pseudo_Prob_Class_4', 'Pseudo_Prob_Class_5']\n",
    "].values\n",
    "train_features = train_features_df.drop(columns=[\n",
    "    'Label', 'Image', 'Pseudo_Prob_Class_0', 'Pseudo_Prob_Class_1', 'Pseudo_Prob_Class_2', \n",
    "    'Pseudo_Prob_Class_3', 'Pseudo_Prob_Class_4', 'Pseudo_Prob_Class_5'\n",
    "]).values\n",
    "\n",
    "\n",
    "# Load Test Features\n",
    "test_features_df = pd.read_csv('Custom_CNN_fusion_Stratified/test_features_transformer.csv')\n",
    "test_labels = test_features_df['Label'].values\n",
    "groups_test = test_features_df['Image'].str[:].values  # ✅ Extract first 12 chars if patient ID\n",
    "pseudo_probs_test = test_features_df[\n",
    "    ['Pseudo_Prob_Class_0', 'Pseudo_Prob_Class_1', 'Pseudo_Prob_Class_2', \n",
    "     'Pseudo_Prob_Class_3', 'Pseudo_Prob_Class_4', 'Pseudo_Prob_Class_5']\n",
    "].values\n",
    "\n",
    "test_features = test_features_df.drop(columns=[\n",
    "    'Label', 'Image', 'Pseudo_Prob_Class_0', 'Pseudo_Prob_Class_1', 'Pseudo_Prob_Class_2', \n",
    "    'Pseudo_Prob_Class_3', 'Pseudo_Prob_Class_4', 'Pseudo_Prob_Class_5'\n",
    "]).values\n",
    "\n",
    "# Print the shape of the feature arrays\n",
    "print('Train feature shape: ', train_features.shape)\n",
    "print('Test feature shape: ', test_features.shape)\n",
    "\n",
    "\n",
    "# Print the pseudo probabilities\n",
    "print(pseudo_probs_test)\n"
   ]
  },
  {
   "cell_type": "code",
   "execution_count": null,
   "metadata": {},
   "outputs": [],
   "source": [
    "import torch\n",
    "import numpy as np\n",
    "from torch_geometric.data import Data\n",
    "\n",
    "def graph_data_pseudo_prob_features(features, pseudo_probs, labels, max_neighbors=5):\n",
    "    \"\"\"\n",
    "    - Constructs a graph where nodes are connected based on their pseudo-labels.\n",
    "    - **No confidence-based filtering (low-confidence nodes are kept).**\n",
    "    - **Pseudo-probabilities are added as extra node features.**\n",
    "    \n",
    "    Args:\n",
    "        features (np.array): Original node feature matrix (num_nodes, feature_dim).\n",
    "        pseudo_probs (np.array): Pseudo-label probability distributions (num_nodes, num_classes).\n",
    "        labels (np.array): Ground truth labels (for evaluation, not used in connectivity).\n",
    "        max_neighbors (int): Maximum number of neighbors per node.\n",
    "\n",
    "    Returns:\n",
    "        PyG Data object with node features including pseudo probabilities.\n",
    "    \"\"\"\n",
    "    num_nodes = features.shape[0]\n",
    "    feature_tensor = torch.tensor(features, dtype=torch.float)\n",
    "    pseudo_probs_tensor = torch.tensor(pseudo_probs, dtype=torch.float)\n",
    "    labels_tensor = torch.tensor(labels, dtype=torch.long)\n",
    "\n",
    "    # ✅ Compute pseudo-labels from pseudo_probs\n",
    "    pseudo_labels = pseudo_probs.argmax(axis=1)\n",
    "\n",
    "    # ✅ Step 1: Initialize adjacency matrix\n",
    "    adjacency_matrix = np.zeros((num_nodes, num_nodes))\n",
    "\n",
    "    # ✅ Step 2: Group nodes by pseudo-labels\n",
    "    pseudo_label_groups = {c: np.where(pseudo_labels == c)[0] for c in np.unique(pseudo_labels)}\n",
    "\n",
    "    # ✅ Step 3: Connect nodes within the same pseudo-label group\n",
    "    for node_idx in range(num_nodes):\n",
    "        node_label = pseudo_labels[node_idx]\n",
    "        same_class_nodes = pseudo_label_groups[node_label]\n",
    "\n",
    "        # Remove self-loop\n",
    "        same_class_nodes = same_class_nodes[same_class_nodes != node_idx]\n",
    "\n",
    "        # Limit number of connections\n",
    "        if len(same_class_nodes) > max_neighbors:\n",
    "            same_class_nodes = np.random.choice(same_class_nodes, max_neighbors, replace=False)\n",
    "\n",
    "        # Create connections\n",
    "        adjacency_matrix[node_idx, same_class_nodes] = 1\n",
    "\n",
    "    # ✅ Step 4: Convert adjacency matrix to edge index format\n",
    "    edge_index = np.array(np.nonzero(adjacency_matrix))\n",
    "    edge_index = torch.tensor(edge_index, dtype=torch.long)\n",
    "\n",
    "    # ✅ Step 5: Concatenate pseudo probabilities as additional node features\n",
    "    node_features_with_probs = torch.cat([feature_tensor, pseudo_probs_tensor], dim=1)  # (num_nodes, feature_dim + num_classes)\n",
    "\n",
    "    # ✅ Step 6: Create PyG Data object\n",
    "    data = Data(x=node_features_with_probs, edge_index=edge_index, y=labels_tensor)\n",
    "    \n",
    "    pseudo_labels_tensor = torch.tensor(pseudo_labels, dtype=torch.long)\n",
    "    data.pseudo_labels = pseudo_labels_tensor\n",
    "    data.pseudo_probs = pseudo_probs_tensor  # ✅ Each node retains its full probability distribution\n",
    "\n",
    "    return data\n",
    "\n",
    "# ✅ Example Usage\n",
    "train_graph = graph_data_pseudo_prob_features(train_features, pseudo_probs_train, train_labels, max_neighbors=3)\n",
    "test_graph = graph_data_pseudo_prob_features(test_features, pseudo_probs_test, test_labels, max_neighbors=3)\n",
    "\n",
    "print(train_graph)\n",
    "print(f\"Train Graph - Nodes: {train_graph.num_nodes}, Edges: {train_graph.num_edges}\")\n",
    "print(f\"Test Graph - Nodes: {test_graph.num_nodes}, Edges: {test_graph.num_edges}\")"
   ]
  },
  {
   "cell_type": "code",
   "execution_count": null,
   "metadata": {},
   "outputs": [],
   "source": [
    "import torch\n",
    "import numpy as np\n",
    "from torch_geometric.data import Data\n",
    "import matplotlib.pyplot as plt\n",
    "from sklearn.metrics import confusion_matrix, accuracy_score\n",
    "import seaborn as sns\n",
    "\n",
    "def graph_data_separate_confidence(features, pseudo_probs, labels, image_names, max_neighbors=5, confidence_threshold=0.58, filter_test=False):\n",
    "    \"\"\"\n",
    "    - Constructs graph based on high-confidence pseudo-labels.\n",
    "    - **For test data only**, prints accuracy metrics and visualizes confusion matrices.\n",
    "    - **Pseudo-labels are now inferred from pseudo_probs (no need to pass pseudo_labels explicitly)**.\n",
    "    \"\"\"\n",
    "    num_nodes = features.shape[0]\n",
    "\n",
    "    # ✅ Compute pseudo-labels dynamically from pseudo_probs\n",
    "    pseudo_labels = pseudo_probs.argmax(axis=1)  # Get highest-confidence class for each node\n",
    "    assigned_pseudo_probs = pseudo_probs[np.arange(num_nodes), pseudo_labels]  # Keep confidence of assigned class\n",
    "\n",
    "    # ✅ Identify high-confidence & low-confidence nodes\n",
    "    if filter_test:\n",
    "        high_confidence_indices = np.where(assigned_pseudo_probs >= confidence_threshold)[0]  # High-confidence nodes\n",
    "        low_confidence_indices = np.where(assigned_pseudo_probs < confidence_threshold)[0]  # Low-confidence nodes\n",
    "        discarded_images = [image_names[i] for i in low_confidence_indices]  # Store discarded image names\n",
    "        kept_images = [image_names[i] for i in high_confidence_indices]  # Store kept image names\n",
    "    else:\n",
    "        high_confidence_indices = np.arange(num_nodes)  # Keep all nodes for training\n",
    "        low_confidence_indices = []\n",
    "        discarded_images = []  # No images are discarded in training\n",
    "        kept_images = []\n",
    "\n",
    "    high_confidence_features = features[high_confidence_indices]\n",
    "    high_confidence_pseudo_labels = pseudo_labels[high_confidence_indices]\n",
    "    high_confidence_true_labels = labels[high_confidence_indices]  # True labels for high-confidence nodes\n",
    "\n",
    "    # ✅ Step 1: Connect high-confidence nodes based on pseudo-labels\n",
    "    adjacency_matrix = np.zeros((len(high_confidence_indices), len(high_confidence_indices)))\n",
    "\n",
    "    for idx, i in enumerate(high_confidence_indices):\n",
    "        same_pseudo_label_indices = high_confidence_indices[high_confidence_pseudo_labels == high_confidence_pseudo_labels[idx]]\n",
    "\n",
    "        # Exclude the current node\n",
    "        same_pseudo_label_indices = same_pseudo_label_indices[same_pseudo_label_indices != i]\n",
    "\n",
    "        # Limit to max_neighbors\n",
    "        if len(same_pseudo_label_indices) > max_neighbors:\n",
    "            same_pseudo_label_indices = np.random.choice(same_pseudo_label_indices, max_neighbors, replace=True)\n",
    "\n",
    "        for j in same_pseudo_label_indices:\n",
    "            adjacency_matrix[idx, np.where(high_confidence_indices == j)[0][0]] = 1  # Connect similar pseudo-labeled nodes\n",
    "\n",
    "    # ✅ Step 2: Convert adjacency matrix to edge index\n",
    "    edge_index = np.array(np.nonzero(adjacency_matrix))\n",
    "    edge_index = torch.tensor(edge_index, dtype=torch.long)\n",
    "\n",
    "    # ✅ Step 3: Ensure only high-confidence nodes are kept in the graph (for test)\n",
    "    filtered_feature_tensor = torch.tensor(high_confidence_features, dtype=torch.float)\n",
    "    filtered_labels_tensor = torch.tensor(high_confidence_true_labels, dtype=torch.long)\n",
    "\n",
    "    # ✅ Step 4: Compute Accuracy for High-Confidence & Low-Confidence Nodes\n",
    "    if filter_test:\n",
    "       \n",
    "\n",
    "        if len(low_confidence_indices) > 0:\n",
    "            low_confidence_true_labels = labels[low_confidence_indices]\n",
    "            low_confidence_pseudo_labels = pseudo_labels[low_confidence_indices]\n",
    "\n",
    "\n",
    "            # ✅ Confusion Matrix & Visualizations\n",
    "            fig, axes = plt.subplots(1, 3, figsize=(15, 4))\n",
    "\n",
    "            # 🔹 **Ground Truth Label Distribution**\n",
    "            axes[0].hist(low_confidence_true_labels, bins=np.arange(low_confidence_true_labels.min(), low_confidence_true_labels.max() + 2) - 0.5,\n",
    "                         alpha=0.7, color='blue', edgecolor='black', label='True Labels')\n",
    "            axes[0].set_xticks(range(low_confidence_true_labels.min(), low_confidence_true_labels.max() + 1))\n",
    "            axes[0].set_xlabel('Class Labels')\n",
    "            axes[0].set_ylabel('Count')\n",
    "            axes[0].set_title('Ground Truth Label Distribution (Low Confidence)')\n",
    "            axes[0].legend()\n",
    "\n",
    "            # 🔹 **Pseudo-Label Distribution**\n",
    "            axes[1].hist(low_confidence_pseudo_labels, bins=np.arange(low_confidence_pseudo_labels.min(), low_confidence_pseudo_labels.max() + 2) - 0.5,\n",
    "                         alpha=0.7, color='red', edgecolor='black', label='Pseudo Labels')\n",
    "            axes[1].set_xticks(range(low_confidence_pseudo_labels.min(), low_confidence_pseudo_labels.max() + 1))\n",
    "            axes[1].set_xlabel('Pseudo Labels')\n",
    "            axes[1].set_ylabel('Count')\n",
    "            axes[1].set_title('Pseudo Label Distribution (Low Confidence)')\n",
    "            axes[1].legend()\n",
    "\n",
    "            # 🔹 **Confusion Matrix**\n",
    "            cm = confusion_matrix(low_confidence_true_labels, low_confidence_pseudo_labels)\n",
    "            sns.heatmap(cm, annot=True, fmt='d', cmap='Blues', xticklabels=np.unique(low_confidence_true_labels),\n",
    "                        yticklabels=np.unique(low_confidence_true_labels), ax=axes[2])\n",
    "            axes[2].set_xlabel(\"Predicted Pseudo Labels\")\n",
    "            axes[2].set_ylabel(\"True Labels\")\n",
    "            axes[2].set_title(\"Confusion Matrix (Low Confidence Nodes)\")\n",
    "\n",
    "            plt.tight_layout()\n",
    "            plt.show()\n",
    "\n",
    "    # ✅ Create PyTorch Geometric Graph Data\n",
    "    data = Data(x=filtered_feature_tensor, edge_index=edge_index, y=filtered_labels_tensor)\n",
    "    \n",
    "    pseudo_labels_tensor = torch.tensor(pseudo_labels, dtype=torch.long)\n",
    "    pseudo_probs_tensor = torch.tensor(assigned_pseudo_probs, dtype=torch.float)  # ✅ Single probability per node\n",
    "    data.pseudo_labels = pseudo_labels_tensor[high_confidence_indices]\n",
    "    data.pseudo_probs = pseudo_probs_tensor[high_confidence_indices]\n",
    "    \n",
    "    return data, discarded_images, kept_images  # ✅ Return discarded images\n",
    "\n",
    "# ✅ Example Usage\n",
    "train_graph, _, _ = graph_data_separate_confidence(train_features, pseudo_probs_train, train_labels, groups_train, max_neighbors=10, filter_test=False)\n",
    "test_graph, discarded_test_images, kept_images = graph_data_separate_confidence(test_features, pseudo_probs_test, test_labels, groups_test, max_neighbors=10, filter_test=True)\n",
    "\n",
    "print(train_graph)\n",
    "print(f\"Train Graph - Nodes: {train_graph.num_nodes}, Edges: {train_graph.num_edges}\")\n",
    "print(f\"Test Graph - Nodes: {test_graph.num_nodes}, Edges: {test_graph.num_edges}\")\n",
    "\n",
    "# ✅ Print the discarded images for review\n",
    "print(\"Discarded Test Images (Low Confidence Nodes):\")\n",
    "print(discarded_test_images)\n",
    "\n",
    "# ✅ Print the kept test images for review\n",
    "print(\"Kept Test Images (High Confidence Nodes):\")\n",
    "print(kept_images)"
   ]
  },
  {
   "cell_type": "code",
   "execution_count": 2,
   "metadata": {},
   "outputs": [
    {
     "name": "stderr",
     "output_type": "stream",
     "text": [
      "/Users/mertdaloglu/anaconda3/envs/gcnn_project/lib/python3.9/site-packages/torch_geometric/typing.py:68: UserWarning: An issue occurred while importing 'pyg-lib'. Disabling its usage. Stacktrace: dlopen(/Users/mertdaloglu/anaconda3/envs/gcnn_project/lib/python3.9/site-packages/libpyg.so, 0x0006): Library not loaded: /Library/Frameworks/Python.framework/Versions/3.9/Python\n",
      "  Referenced from: <2695749E-A917-3F14-B0DA-2A4914D2853D> /Users/mertdaloglu/anaconda3/envs/gcnn_project/lib/python3.9/site-packages/libpyg.so\n",
      "  Reason: tried: '/Library/Frameworks/Python.framework/Versions/3.9/Python' (mach-o file, but is an incompatible architecture (have 'x86_64', need 'arm64e' or 'arm64')), '/System/Volumes/Preboot/Cryptexes/OS/Library/Frameworks/Python.framework/Versions/3.9/Python' (no such file), '/Library/Frameworks/Python.framework/Versions/3.9/Python' (mach-o file, but is an incompatible architecture (have 'x86_64', need 'arm64e' or 'arm64'))\n",
      "  warnings.warn(f\"An issue occurred while importing 'pyg-lib'. \"\n",
      "/Users/mertdaloglu/anaconda3/envs/gcnn_project/lib/python3.9/site-packages/torch_geometric/typing.py:124: UserWarning: An issue occurred while importing 'torch-sparse'. Disabling its usage. Stacktrace: dlopen(/Users/mertdaloglu/anaconda3/envs/gcnn_project/lib/python3.9/site-packages/libpyg.so, 0x0006): Library not loaded: /Library/Frameworks/Python.framework/Versions/3.9/Python\n",
      "  Referenced from: <2695749E-A917-3F14-B0DA-2A4914D2853D> /Users/mertdaloglu/anaconda3/envs/gcnn_project/lib/python3.9/site-packages/libpyg.so\n",
      "  Reason: tried: '/Library/Frameworks/Python.framework/Versions/3.9/Python' (mach-o file, but is an incompatible architecture (have 'x86_64', need 'arm64e' or 'arm64')), '/System/Volumes/Preboot/Cryptexes/OS/Library/Frameworks/Python.framework/Versions/3.9/Python' (no such file), '/Library/Frameworks/Python.framework/Versions/3.9/Python' (mach-o file, but is an incompatible architecture (have 'x86_64', need 'arm64e' or 'arm64'))\n",
      "  warnings.warn(f\"An issue occurred while importing 'torch-sparse'. \"\n"
     ]
    },
    {
     "name": "stdout",
     "output_type": "stream",
     "text": [
      "Data(x=[9789, 256], edge_index=[2, 39156], edge_attr=[39156], y=[9789], pseudo_probs=[9789])\n",
      "Train Graph - Nodes: 9789, Edges: 39156\n",
      "Test Graph - Nodes: 2611, Edges: 10444\n"
     ]
    }
   ],
   "source": [
    "import torch\n",
    "import numpy as np\n",
    "from torch_geometric.data import Data\n",
    "import random\n",
    "\n",
    "def generate_confidence_weighted_graph(features, pseudo_labels, pseudo_probs, labels, max_neighbors=3):\n",
    "    \"\"\"\n",
    "    Constructs a graph where:\n",
    "    - Nodes are connected based on their pseudo-labels.\n",
    "    - Edge weights are assigned based on confidence scores.\n",
    "    - No nodes are removed (low-confidence nodes are retained but receive lower edge weights).\n",
    "    \n",
    "    Parameters:\n",
    "    - features: NumPy array of feature vectors.\n",
    "    - pseudo_labels: NumPy array of pseudo-labels.\n",
    "    - pseudo_probs: NumPy array of confidence scores.\n",
    "    - labels: Ground-truth labels (for evaluation purposes).\n",
    "    - max_neighbors: Maximum number of neighbors for each node.\n",
    "\n",
    "    Returns:\n",
    "    - PyTorch Geometric `Data` object containing the graph.\n",
    "    \"\"\"\n",
    "    num_nodes = features.shape[0]\n",
    "    \n",
    "    # Convert to PyTorch tensors\n",
    "    feature_tensor = torch.tensor(features, dtype=torch.float)\n",
    "    labels_tensor = torch.tensor(labels, dtype=torch.long)\n",
    "\n",
    "    adjacency_matrix = np.zeros((num_nodes, num_nodes))\n",
    "    edge_weights = np.zeros((num_nodes, num_nodes))  # Edge weight matrix\n",
    "\n",
    "    for i in range(num_nodes):\n",
    "        same_pseudo_label_indices = np.where(pseudo_labels == pseudo_labels[i])[0]\n",
    "        \n",
    "        # Exclude self-connections\n",
    "        same_pseudo_label_indices = same_pseudo_label_indices[same_pseudo_label_indices != i]\n",
    "        \n",
    "        # Limit to max_neighbors\n",
    "        if len(same_pseudo_label_indices) > max_neighbors:\n",
    "            selected_neighbors = np.random.choice(same_pseudo_label_indices, max_neighbors, replace=False)\n",
    "        else:\n",
    "            selected_neighbors = same_pseudo_label_indices\n",
    "        \n",
    "        # Assign edges with confidence-based weights\n",
    "        for j in selected_neighbors:\n",
    "            adjacency_matrix[i, j] = 1\n",
    "            edge_weights[i, j] = (pseudo_probs[i] + pseudo_probs[j]) / 2  # Confidence-weighted edges\n",
    "    \n",
    "    # Add self-loops (confidence weight remains 1.0 for self-loops)\n",
    "    np.fill_diagonal(adjacency_matrix, 1)\n",
    "    np.fill_diagonal(edge_weights, 1.0)\n",
    "\n",
    "    # Convert adjacency matrix to edge index\n",
    "    edge_index = np.array(np.nonzero(adjacency_matrix))\n",
    "    edge_index = torch.tensor(edge_index, dtype=torch.long)\n",
    "\n",
    "    # Convert edge weights to PyTorch tensor\n",
    "    edge_weights = edge_weights[edge_index[0], edge_index[1]]\n",
    "    edge_weights = torch.tensor(edge_weights, dtype=torch.float)\n",
    "\n",
    "    # Create PyTorch Geometric Graph Data Object\n",
    "    data = Data(x=feature_tensor, edge_index=edge_index, y=labels_tensor, edge_attr=edge_weights)\n",
    "    data.pseudo_probs = torch.tensor(pseudo_probs, dtype=torch.float)\n",
    "\n",
    "    return data\n",
    "\n",
    "train_graph = generate_confidence_weighted_graph(train_features, pseudo_labels_train, pseudo_probs_train, train_labels)\n",
    "test_graph = generate_confidence_weighted_graph(test_features, pseudo_labels_test, pseudo_probs_test, test_labels)\n",
    "\n",
    "print(train_graph)\n",
    "print(f\"Train Graph - Nodes: {train_graph.num_nodes}, Edges: {train_graph.num_edges}\")\n",
    "print(f\"Test Graph - Nodes: {test_graph.num_nodes}, Edges: {test_graph.num_edges}\")"
   ]
  },
  {
   "cell_type": "code",
   "execution_count": 13,
   "metadata": {},
   "outputs": [
    {
     "name": "stderr",
     "output_type": "stream",
     "text": [
      "/var/folders/gk/dsypcq4n5hg6hh5qdss0ly540000gn/T/ipykernel_1347/2852487311.py:30: MatplotlibDeprecationWarning: The get_cmap function was deprecated in Matplotlib 3.7 and will be removed in 3.11. Use ``matplotlib.colormaps[name]`` or ``matplotlib.colormaps.get_cmap()`` or ``pyplot.get_cmap()`` instead.\n",
      "  color_map = plt.cm.get_cmap('jet', len(unique_labels))  # Generate color map\n"
     ]
    },
    {
     "data": {
      "image/png": "[encoded data removed]",
      "text/plain": [
       "<Figure size 800x600 with 1 Axes>"
      ]
     },
     "metadata": {},
     "output_type": "display_data"
    }
   ],
   "source": [
    "import torch\n",
    "import networkx as nx\n",
    "import matplotlib.pyplot as plt\n",
    "from torch_geometric.utils import to_networkx\n",
    "import numpy as np\n",
    "\n",
    "def visualize_subgraph(data):\n",
    "    \"\"\"\n",
    "    Convert a PyTorch Geometric graph into a NetworkX graph and visualize a small subgraph.\n",
    "\n",
    "    Args:\n",
    "        data (torch_geometric.data.Data): Graph data.\n",
    "       \n",
    "    \"\"\"\n",
    "    \n",
    "    num_nodes = data.num_nodes\n",
    "    \n",
    "    # Convert PyG graph to NetworkX format\n",
    "    G = to_networkx(data, to_undirected=True)\n",
    "\n",
    "    # Extract a subset of nodes\n",
    "    sub_nodes = list(G.nodes)[:num_nodes]  # Select first `num_nodes`\n",
    "    subgraph = G.subgraph(sub_nodes)\n",
    "\n",
    "    # Assign colors based on class labels\n",
    "    node_labels = np.array([data.y[i].item() for i in sub_nodes])  # Get labels of selected nodes\n",
    "    unique_labels = np.unique(node_labels)  # Unique class labels\n",
    "\n",
    "    # Create a color map for unique class labels\n",
    "    color_map = plt.cm.get_cmap('jet', len(unique_labels))  # Generate color map\n",
    "    label_color_mapping = {label: color_map(i / len(unique_labels)) for i, label in enumerate(unique_labels)}  # Map labels to colors\n",
    "    node_colors = [label_color_mapping[label] for label in node_labels]  # Assign colors\n",
    "\n",
    "    # Plot the graph\n",
    "    plt.figure(figsize=(8, 6))\n",
    "    nx.draw(subgraph, with_labels=False, node_size=50, node_color=node_colors)\n",
    "\n",
    "    plt.title(f\"Visualization of First {num_nodes} Nodes in the Graph\")\n",
    "\n",
    "    # Create a legend for the node colors\n",
    "    legend_patches = [plt.Line2D([0], [0], marker='o', color='w', markerfacecolor=label_color_mapping[label], markersize=8, label=f\"Class {label}\") \n",
    "                      for label in unique_labels]\n",
    "    plt.legend(handles=legend_patches, title=\"Node Classes\", loc=\"upper right\")\n",
    "\n",
    "    plt.show()\n",
    "\n",
    "# Call the function to visualize the graph (first 55 nodes)\n",
    "visualize_subgraph(test_graph)"
   ]
  },
  {
   "cell_type": "code",
   "execution_count": 23,
   "metadata": {},
   "outputs": [],
   "source": [
    "import sys\n",
    "import os\n",
    "\n",
    "# Add the parent directory to the system path\n",
    "sys.path.append(os.path.abspath(os.path.join(os.getcwd(), '..')))\n",
    "\n",
    "from utils import GCNNClassifier, GCNN_Dot_Product, GCNN_Concat_Attention, GCNN_Prod_Res, GATClassifier, GraphSAGEClassifier, GNClassifier\n"
   ]
  },
  {
   "cell_type": "code",
   "execution_count": 24,
   "metadata": {},
   "outputs": [],
   "source": [
    "# Choose the device\n",
    "device = torch.device('cuda' if torch.cuda.is_available() else 'cpu')\n",
    "\n",
    "\n",
    "# Choose and Define the model\n",
    "in_channels = train_graph.x.shape[1]  # (feature vector size)\n",
    "hidden_channels = 256\n",
    "num_classes = 6\n",
    "model = GNClassifier(in_channels, hidden_channels, num_classes).to(device)"
   ]
  },
  {
   "cell_type": "code",
   "execution_count": 25,
   "metadata": {},
   "outputs": [],
   "source": [
    "import torch.nn.functional as F\n",
    "def confidence_weighted_loss(preds, true_labels, confidence_scores, beta=5):\n",
    "    \"\"\"\n",
    "    Computes confidence-weighted cross-entropy loss using a logarithmic scaling function.\n",
    "\n",
    "    - beta: Scaling factor. Higher values increase the gap between high- and low-confidence nodes.\n",
    "    \"\"\"\n",
    "    ce_loss = F.cross_entropy(preds, true_labels, reduction='none')\n",
    "\n",
    "    # Log-transformed confidence scaling\n",
    "    scaled_confidence = torch.log1p(beta * confidence_scores.max())  # log(1 + beta * c)\n",
    "\n",
    "    weighted_loss = (scaled_confidence * ce_loss).mean()\n",
    "\n",
    "    return weighted_loss"
   ]
  },
  {
   "cell_type": "code",
   "execution_count": 26,
   "metadata": {},
   "outputs": [
    {
     "name": "stderr",
     "output_type": "stream",
     "text": [
      "Training:   0%|          | 0/150 [00:00<?, ?it/s]"
     ]
    },
    {
     "name": "stderr",
     "output_type": "stream",
     "text": [
      "Training:   1%|          | 1/150 [00:20<52:01, 20.95s/it]"
     ]
    },
    {
     "name": "stdout",
     "output_type": "stream",
     "text": [
      "Epoch 1, Train Loss: 144.9695, Val Loss: 21.9092, Train Acc: 0.33, Val Acc: 0.6841\n"
     ]
    },
    {
     "name": "stderr",
     "output_type": "stream",
     "text": [
      "Training:   1%|▏         | 2/150 [00:50<1:04:13, 26.04s/it]"
     ]
    },
    {
     "name": "stdout",
     "output_type": "stream",
     "text": [
      "Epoch 2, Train Loss: 83.9766, Val Loss: 16.9624, Train Acc: 0.69, Val Acc: 0.7372\n"
     ]
    },
    {
     "name": "stderr",
     "output_type": "stream",
     "text": [
      "Training:   2%|▏         | 3/150 [01:21<1:09:30, 28.37s/it]"
     ]
    },
    {
     "name": "stdout",
     "output_type": "stream",
     "text": [
      "Epoch 3, Train Loss: 64.0929, Val Loss: 13.9600, Train Acc: 0.75, Val Acc: 0.8105\n"
     ]
    },
    {
     "name": "stderr",
     "output_type": "stream",
     "text": [
      "Training:   3%|▎         | 4/150 [01:48<1:07:45, 27.84s/it]"
     ]
    },
    {
     "name": "stdout",
     "output_type": "stream",
     "text": [
      "Epoch 4, Train Loss: 52.4628, Val Loss: 11.9007, Train Acc: 0.82, Val Acc: 0.8295\n"
     ]
    },
    {
     "name": "stderr",
     "output_type": "stream",
     "text": [
      "Training:   3%|▎         | 5/150 [02:13<1:04:50, 26.83s/it]"
     ]
    },
    {
     "name": "stdout",
     "output_type": "stream",
     "text": [
      "Epoch 5, Train Loss: 44.4664, Val Loss: 10.0644, Train Acc: 0.84, Val Acc: 0.8365\n"
     ]
    },
    {
     "name": "stderr",
     "output_type": "stream",
     "text": [
      "Training:   4%|▍         | 6/150 [02:38<1:02:41, 26.12s/it]"
     ]
    },
    {
     "name": "stdout",
     "output_type": "stream",
     "text": [
      "Epoch 6, Train Loss: 37.5160, Val Loss: 8.6154, Train Acc: 0.84, Val Acc: 0.8381\n"
     ]
    },
    {
     "name": "stderr",
     "output_type": "stream",
     "text": [
      "Training:   5%|▍         | 7/150 [03:07<1:04:43, 27.15s/it]"
     ]
    },
    {
     "name": "stdout",
     "output_type": "stream",
     "text": [
      "Epoch 7, Train Loss: 32.0764, Val Loss: 7.4427, Train Acc: 0.85, Val Acc: 0.8390\n"
     ]
    },
    {
     "name": "stderr",
     "output_type": "stream",
     "text": [
      "Training:   5%|▌         | 8/150 [03:27<58:33, 24.74s/it]  "
     ]
    },
    {
     "name": "stdout",
     "output_type": "stream",
     "text": [
      "Epoch 8, Train Loss: 27.6808, Val Loss: 6.7003, Train Acc: 0.85, Val Acc: 0.8410\n"
     ]
    },
    {
     "name": "stderr",
     "output_type": "stream",
     "text": [
      "Training:   6%|▌         | 9/150 [03:45<53:01, 22.56s/it]"
     ]
    },
    {
     "name": "stdout",
     "output_type": "stream",
     "text": [
      "Epoch 9, Train Loss: 24.9323, Val Loss: 5.9819, Train Acc: 0.85, Val Acc: 0.8447\n"
     ]
    },
    {
     "name": "stderr",
     "output_type": "stream",
     "text": [
      "Training:   7%|▋         | 10/150 [04:03<49:32, 21.23s/it]"
     ]
    },
    {
     "name": "stdout",
     "output_type": "stream",
     "text": [
      "Epoch 10, Train Loss: 22.3058, Val Loss: 5.3642, Train Acc: 0.85, Val Acc: 0.8464\n"
     ]
    },
    {
     "name": "stderr",
     "output_type": "stream",
     "text": [
      "Training:   7%|▋         | 11/150 [04:26<50:20, 21.73s/it]"
     ]
    },
    {
     "name": "stdout",
     "output_type": "stream",
     "text": [
      "Epoch 11, Train Loss: 20.0358, Val Loss: 4.8128, Train Acc: 0.86, Val Acc: 0.8501\n"
     ]
    },
    {
     "name": "stderr",
     "output_type": "stream",
     "text": [
      "Training:   8%|▊         | 12/150 [04:50<51:43, 22.49s/it]"
     ]
    },
    {
     "name": "stdout",
     "output_type": "stream",
     "text": [
      "Epoch 12, Train Loss: 17.9301, Val Loss: 4.4063, Train Acc: 0.86, Val Acc: 0.8587\n"
     ]
    },
    {
     "name": "stderr",
     "output_type": "stream",
     "text": [
      "Training:   9%|▊         | 13/150 [05:08<48:31, 21.25s/it]"
     ]
    },
    {
     "name": "stdout",
     "output_type": "stream",
     "text": [
      "Epoch 13, Train Loss: 16.4342, Val Loss: 3.9858, Train Acc: 0.87, Val Acc: 0.8670\n"
     ]
    },
    {
     "name": "stderr",
     "output_type": "stream",
     "text": [
      "Training:   9%|▉         | 14/150 [05:27<46:32, 20.53s/it]"
     ]
    },
    {
     "name": "stdout",
     "output_type": "stream",
     "text": [
      "Epoch 14, Train Loss: 14.9243, Val Loss: 3.6256, Train Acc: 0.89, Val Acc: 0.8764\n"
     ]
    },
    {
     "name": "stderr",
     "output_type": "stream",
     "text": [
      "Training:  10%|█         | 15/150 [05:47<45:20, 20.15s/it]"
     ]
    },
    {
     "name": "stdout",
     "output_type": "stream",
     "text": [
      "Epoch 15, Train Loss: 13.5042, Val Loss: 3.3433, Train Acc: 0.90, Val Acc: 0.8880\n"
     ]
    },
    {
     "name": "stderr",
     "output_type": "stream",
     "text": [
      "Training:  11%|█         | 16/150 [06:16<50:58, 22.82s/it]"
     ]
    },
    {
     "name": "stdout",
     "output_type": "stream",
     "text": [
      "Epoch 16, Train Loss: 12.3838, Val Loss: 3.0568, Train Acc: 0.92, Val Acc: 0.8954\n"
     ]
    },
    {
     "name": "stderr",
     "output_type": "stream",
     "text": [
      "Training:  11%|█▏        | 17/150 [06:41<52:02, 23.48s/it]"
     ]
    },
    {
     "name": "stdout",
     "output_type": "stream",
     "text": [
      "Epoch 17, Train Loss: 11.2841, Val Loss: 2.9083, Train Acc: 0.93, Val Acc: 0.9057\n"
     ]
    },
    {
     "name": "stderr",
     "output_type": "stream",
     "text": [
      "Training:  12%|█▏        | 18/150 [07:09<54:41, 24.86s/it]"
     ]
    },
    {
     "name": "stdout",
     "output_type": "stream",
     "text": [
      "Epoch 18, Train Loss: 10.5296, Val Loss: 2.7975, Train Acc: 0.94, Val Acc: 0.9114\n"
     ]
    },
    {
     "name": "stderr",
     "output_type": "stream",
     "text": [
      "Training:  13%|█▎        | 19/150 [07:29<51:24, 23.55s/it]"
     ]
    },
    {
     "name": "stdout",
     "output_type": "stream",
     "text": [
      "Epoch 19, Train Loss: 10.2284, Val Loss: 2.7058, Train Acc: 0.95, Val Acc: 0.9193\n"
     ]
    },
    {
     "name": "stderr",
     "output_type": "stream",
     "text": [
      "Training:  13%|█▎        | 20/150 [07:52<50:28, 23.29s/it]"
     ]
    },
    {
     "name": "stdout",
     "output_type": "stream",
     "text": [
      "Epoch 20, Train Loss: 9.6349, Val Loss: 2.4098, Train Acc: 0.96, Val Acc: 0.9250\n"
     ]
    },
    {
     "name": "stderr",
     "output_type": "stream",
     "text": [
      "Training:  14%|█▍        | 21/150 [08:23<54:53, 25.53s/it]"
     ]
    },
    {
     "name": "stdout",
     "output_type": "stream",
     "text": [
      "Epoch 21, Train Loss: 8.5214, Val Loss: 2.2264, Train Acc: 0.96, Val Acc: 0.9255\n"
     ]
    },
    {
     "name": "stderr",
     "output_type": "stream",
     "text": [
      "Training:  15%|█▍        | 22/150 [08:44<51:51, 24.31s/it]"
     ]
    },
    {
     "name": "stdout",
     "output_type": "stream",
     "text": [
      "Epoch 22, Train Loss: 8.0416, Val Loss: 2.2611, Train Acc: 0.97, Val Acc: 0.9226\n"
     ]
    },
    {
     "name": "stderr",
     "output_type": "stream",
     "text": [
      "Training:  15%|█▌        | 23/150 [09:08<51:08, 24.16s/it]"
     ]
    },
    {
     "name": "stdout",
     "output_type": "stream",
     "text": [
      "Epoch 23, Train Loss: 7.9366, Val Loss: 1.9562, Train Acc: 0.97, Val Acc: 0.9222\n"
     ]
    },
    {
     "name": "stderr",
     "output_type": "stream",
     "text": [
      "Training:  16%|█▌        | 24/150 [09:33<51:36, 24.57s/it]"
     ]
    },
    {
     "name": "stdout",
     "output_type": "stream",
     "text": [
      "Epoch 24, Train Loss: 6.8742, Val Loss: 2.0096, Train Acc: 0.97, Val Acc: 0.9209\n"
     ]
    },
    {
     "name": "stderr",
     "output_type": "stream",
     "text": [
      "Training:  17%|█▋        | 25/150 [09:58<51:00, 24.48s/it]"
     ]
    },
    {
     "name": "stdout",
     "output_type": "stream",
     "text": [
      "Epoch 25, Train Loss: 7.0822, Val Loss: 1.9662, Train Acc: 0.97, Val Acc: 0.9213\n"
     ]
    },
    {
     "name": "stderr",
     "output_type": "stream",
     "text": [
      "Training:  17%|█▋        | 26/150 [10:21<49:38, 24.02s/it]"
     ]
    },
    {
     "name": "stdout",
     "output_type": "stream",
     "text": [
      "Epoch 26, Train Loss: 6.5406, Val Loss: 1.7251, Train Acc: 0.97, Val Acc: 0.9205\n"
     ]
    },
    {
     "name": "stderr",
     "output_type": "stream",
     "text": [
      "Training:  18%|█▊        | 27/150 [10:43<48:20, 23.58s/it]"
     ]
    },
    {
     "name": "stdout",
     "output_type": "stream",
     "text": [
      "Epoch 27, Train Loss: 5.7142, Val Loss: 1.8051, Train Acc: 0.97, Val Acc: 0.9201\n"
     ]
    },
    {
     "name": "stderr",
     "output_type": "stream",
     "text": [
      "Training:  19%|█▊        | 28/150 [11:11<50:27, 24.81s/it]"
     ]
    },
    {
     "name": "stdout",
     "output_type": "stream",
     "text": [
      "Epoch 28, Train Loss: 6.0561, Val Loss: 1.6114, Train Acc: 0.97, Val Acc: 0.9197\n"
     ]
    },
    {
     "name": "stderr",
     "output_type": "stream",
     "text": [
      "Training:  19%|█▉        | 29/150 [11:39<52:09, 25.86s/it]"
     ]
    },
    {
     "name": "stdout",
     "output_type": "stream",
     "text": [
      "Epoch 29, Train Loss: 5.1990, Val Loss: 1.5676, Train Acc: 0.97, Val Acc: 0.9201\n"
     ]
    },
    {
     "name": "stderr",
     "output_type": "stream",
     "text": [
      "Training:  20%|██        | 30/150 [11:59<47:58, 23.99s/it]"
     ]
    },
    {
     "name": "stdout",
     "output_type": "stream",
     "text": [
      "Epoch 30, Train Loss: 5.0407, Val Loss: 1.5865, Train Acc: 0.97, Val Acc: 0.9197\n"
     ]
    },
    {
     "name": "stderr",
     "output_type": "stream",
     "text": [
      "Training:  21%|██        | 31/150 [12:16<43:32, 21.95s/it]"
     ]
    },
    {
     "name": "stdout",
     "output_type": "stream",
     "text": [
      "Epoch 31, Train Loss: 5.1980, Val Loss: 1.4110, Train Acc: 0.97, Val Acc: 0.9193\n"
     ]
    },
    {
     "name": "stderr",
     "output_type": "stream",
     "text": [
      "Training:  21%|██▏       | 32/150 [12:33<40:09, 20.42s/it]"
     ]
    },
    {
     "name": "stdout",
     "output_type": "stream",
     "text": [
      "Epoch 32, Train Loss: 4.4772, Val Loss: 1.4576, Train Acc: 0.97, Val Acc: 0.9197\n"
     ]
    },
    {
     "name": "stderr",
     "output_type": "stream",
     "text": [
      "Training:  22%|██▏       | 33/150 [12:52<39:01, 20.01s/it]"
     ]
    },
    {
     "name": "stdout",
     "output_type": "stream",
     "text": [
      "Epoch 33, Train Loss: 4.5156, Val Loss: 1.4169, Train Acc: 0.97, Val Acc: 0.9197\n"
     ]
    },
    {
     "name": "stderr",
     "output_type": "stream",
     "text": [
      "Training:  23%|██▎       | 34/150 [13:11<38:14, 19.78s/it]"
     ]
    },
    {
     "name": "stdout",
     "output_type": "stream",
     "text": [
      "Epoch 34, Train Loss: 4.3409, Val Loss: 1.2902, Train Acc: 0.97, Val Acc: 0.9197\n"
     ]
    },
    {
     "name": "stderr",
     "output_type": "stream",
     "text": [
      "Training:  23%|██▎       | 35/150 [13:28<36:30, 19.04s/it]"
     ]
    },
    {
     "name": "stdout",
     "output_type": "stream",
     "text": [
      "Epoch 35, Train Loss: 3.9483, Val Loss: 1.3185, Train Acc: 0.97, Val Acc: 0.9201\n"
     ]
    },
    {
     "name": "stderr",
     "output_type": "stream",
     "text": [
      "Training:  24%|██▍       | 36/150 [13:47<35:51, 18.87s/it]"
     ]
    },
    {
     "name": "stdout",
     "output_type": "stream",
     "text": [
      "Epoch 36, Train Loss: 4.0846, Val Loss: 1.2382, Train Acc: 0.97, Val Acc: 0.9197\n"
     ]
    },
    {
     "name": "stderr",
     "output_type": "stream",
     "text": [
      "Training:  25%|██▍       | 37/150 [14:11<38:28, 20.43s/it]"
     ]
    },
    {
     "name": "stdout",
     "output_type": "stream",
     "text": [
      "Epoch 37, Train Loss: 3.7295, Val Loss: 1.2931, Train Acc: 0.97, Val Acc: 0.9197\n"
     ]
    },
    {
     "name": "stderr",
     "output_type": "stream",
     "text": [
      "Training:  25%|██▌       | 38/150 [14:30<37:18, 19.99s/it]"
     ]
    },
    {
     "name": "stdout",
     "output_type": "stream",
     "text": [
      "Epoch 38, Train Loss: 3.8540, Val Loss: 1.2244, Train Acc: 0.97, Val Acc: 0.9205\n"
     ]
    },
    {
     "name": "stderr",
     "output_type": "stream",
     "text": [
      "Training:  26%|██▌       | 39/150 [14:51<37:46, 20.42s/it]"
     ]
    },
    {
     "name": "stdout",
     "output_type": "stream",
     "text": [
      "Epoch 39, Train Loss: 3.6611, Val Loss: 1.1742, Train Acc: 0.97, Val Acc: 0.9205\n"
     ]
    },
    {
     "name": "stderr",
     "output_type": "stream",
     "text": [
      "Training:  27%|██▋       | 40/150 [15:09<36:07, 19.71s/it]"
     ]
    },
    {
     "name": "stdout",
     "output_type": "stream",
     "text": [
      "Epoch 40, Train Loss: 3.6101, Val Loss: 1.1540, Train Acc: 0.97, Val Acc: 0.9209\n"
     ]
    },
    {
     "name": "stderr",
     "output_type": "stream",
     "text": [
      "Training:  27%|██▋       | 40/150 [15:16<42:00, 22.92s/it]\n"
     ]
    },
    {
     "ename": "KeyboardInterrupt",
     "evalue": "",
     "output_type": "error",
     "traceback": [
      "\u001b[0;31m---------------------------------------------------------------------------\u001b[0m",
      "\u001b[0;31mKeyboardInterrupt\u001b[0m                         Traceback (most recent call last)",
      "Cell \u001b[0;32mIn[26], line 46\u001b[0m\n\u001b[1;32m     41\u001b[0m out \u001b[38;5;241m=\u001b[39m model(train_graph\u001b[38;5;241m.\u001b[39mx\u001b[38;5;241m.\u001b[39mto(device), train_graph\u001b[38;5;241m.\u001b[39medge_index\u001b[38;5;241m.\u001b[39mto(device))\n\u001b[1;32m     44\u001b[0m \u001b[38;5;66;03m#train_loss = criterion(out, train_graph.y.to(device))\u001b[39;00m\n\u001b[1;32m     45\u001b[0m \u001b[38;5;66;03m#train_loss = confidence_weighted_loss(out, train_graph.y.to(device), train_graph.pseudo_probs.to(device))\u001b[39;00m\n\u001b[0;32m---> 46\u001b[0m train_loss \u001b[38;5;241m=\u001b[39m \u001b[43mmodel\u001b[49m\u001b[38;5;241;43m.\u001b[39;49m\u001b[43mloss\u001b[49m\u001b[43m(\u001b[49m\u001b[43mtrain_graph\u001b[49m\u001b[38;5;241;43m.\u001b[39;49m\u001b[43mto\u001b[49m\u001b[43m(\u001b[49m\u001b[43mdevice\u001b[49m\u001b[43m)\u001b[49m\u001b[43m,\u001b[49m\u001b[43m \u001b[49m\u001b[43maugmentation\u001b[49m\u001b[38;5;241;43m=\u001b[39;49m\u001b[38;5;28;43;01mFalse\u001b[39;49;00m\u001b[43m)\u001b[49m\n\u001b[1;32m     48\u001b[0m train_loss\u001b[38;5;241m.\u001b[39mbackward()\n\u001b[1;32m     49\u001b[0m optimizer\u001b[38;5;241m.\u001b[39mstep()\n",
      "File \u001b[0;32m~/Desktop/PONS_GCNN/utils/GN_models.py:504\u001b[0m, in \u001b[0;36mGNClassifier.loss\u001b[0;34m(self, graph, augmentation)\u001b[0m\n\u001b[1;32m    502\u001b[0m \u001b[38;5;28;01mfor\u001b[39;00m class_id \u001b[38;5;129;01min\u001b[39;00m torch\u001b[38;5;241m.\u001b[39munique(graph\u001b[38;5;241m.\u001b[39my):\n\u001b[1;32m    503\u001b[0m     class_mask \u001b[38;5;241m=\u001b[39m (graph\u001b[38;5;241m.\u001b[39my \u001b[38;5;241m==\u001b[39m class_id)\n\u001b[0;32m--> 504\u001b[0m     class_centroid \u001b[38;5;241m=\u001b[39m torch\u001b[38;5;241m.\u001b[39mmean(\u001b[38;5;28;43mself\u001b[39;49m\u001b[38;5;241;43m.\u001b[39;49m\u001b[43mforward\u001b[49m\u001b[43m(\u001b[49m\u001b[43mgraph\u001b[49m\u001b[38;5;241;43m.\u001b[39;49m\u001b[43mx\u001b[49m\u001b[43m,\u001b[49m\u001b[43m \u001b[49m\u001b[43mgraph\u001b[49m\u001b[38;5;241;43m.\u001b[39;49m\u001b[43medge_index\u001b[49m\u001b[43m,\u001b[49m\u001b[43m \u001b[49m\u001b[43maugmentation\u001b[49m\u001b[43m)\u001b[49m[class_mask], dim\u001b[38;5;241m=\u001b[39m\u001b[38;5;241m0\u001b[39m)  \n\u001b[1;32m    505\u001b[0m     class_centroids\u001b[38;5;241m.\u001b[39mappend(class_centroid)\n\u001b[1;32m    507\u001b[0m class_centroids \u001b[38;5;241m=\u001b[39m torch\u001b[38;5;241m.\u001b[39mstack(class_centroids)  \u001b[38;5;66;03m# Shape: (num_classes, feature_dim)\u001b[39;00m\n",
      "File \u001b[0;32m~/Desktop/PONS_GCNN/utils/GN_models.py:439\u001b[0m, in \u001b[0;36mGNClassifier.forward\u001b[0;34m(self, x, edge_index, augmentation)\u001b[0m\n\u001b[1;32m    436\u001b[0m     noise \u001b[38;5;241m=\u001b[39m torch\u001b[38;5;241m.\u001b[39mrandn_like(x) \u001b[38;5;241m*\u001b[39m \u001b[38;5;241m0.01\u001b[39m  \u001b[38;5;66;03m# Small noise factor\u001b[39;00m\n\u001b[1;32m    437\u001b[0m     x \u001b[38;5;241m=\u001b[39m x \u001b[38;5;241m+\u001b[39m noise  \u001b[38;5;66;03m# Add noise to node features\u001b[39;00m\n\u001b[0;32m--> 439\u001b[0m \u001b[38;5;28;01mreturn\u001b[39;00m \u001b[38;5;28;43mself\u001b[39;49m\u001b[38;5;241;43m.\u001b[39;49m\u001b[43mpropagate\u001b[49m\u001b[43m(\u001b[49m\u001b[43medge_index\u001b[49m\u001b[43m,\u001b[49m\u001b[43m \u001b[49m\u001b[43mx\u001b[49m\u001b[38;5;241;43m=\u001b[39;49m\u001b[43mx\u001b[49m\u001b[43m)\u001b[49m\n",
      "File \u001b[0;32m/var/folders/gk/dsypcq4n5hg6hh5qdss0ly540000gn/T/utils.GN_models_GNClassifier_propagate_z54fs45m.py:190\u001b[0m, in \u001b[0;36mpropagate\u001b[0;34m(self, edge_index, x, size)\u001b[0m\n\u001b[1;32m    180\u001b[0m             kwargs \u001b[38;5;241m=\u001b[39m CollectArgs(\n\u001b[1;32m    181\u001b[0m                 x_i\u001b[38;5;241m=\u001b[39mhook_kwargs[\u001b[38;5;124m'\u001b[39m\u001b[38;5;124mx_i\u001b[39m\u001b[38;5;124m'\u001b[39m],\n\u001b[1;32m    182\u001b[0m                 x_j\u001b[38;5;241m=\u001b[39mhook_kwargs[\u001b[38;5;124m'\u001b[39m\u001b[38;5;124mx_j\u001b[39m\u001b[38;5;124m'\u001b[39m],\n\u001b[0;32m   (...)\u001b[0m\n\u001b[1;32m    186\u001b[0m                 x\u001b[38;5;241m=\u001b[39mkwargs\u001b[38;5;241m.\u001b[39mx,\n\u001b[1;32m    187\u001b[0m             )\n\u001b[1;32m    188\u001b[0m \u001b[38;5;66;03m# End Message Forward Pre Hook #########################################\u001b[39;00m\n\u001b[0;32m--> 190\u001b[0m out \u001b[38;5;241m=\u001b[39m \u001b[38;5;28;43mself\u001b[39;49m\u001b[38;5;241;43m.\u001b[39;49m\u001b[43mmessage\u001b[49m\u001b[43m(\u001b[49m\n\u001b[1;32m    191\u001b[0m \u001b[43m    \u001b[49m\u001b[43mx_i\u001b[49m\u001b[38;5;241;43m=\u001b[39;49m\u001b[43mkwargs\u001b[49m\u001b[38;5;241;43m.\u001b[39;49m\u001b[43mx_i\u001b[49m\u001b[43m,\u001b[49m\n\u001b[1;32m    192\u001b[0m \u001b[43m    \u001b[49m\u001b[43mx_j\u001b[49m\u001b[38;5;241;43m=\u001b[39;49m\u001b[43mkwargs\u001b[49m\u001b[38;5;241;43m.\u001b[39;49m\u001b[43mx_j\u001b[49m\u001b[43m,\u001b[49m\n\u001b[1;32m    193\u001b[0m \u001b[43m\u001b[49m\u001b[43m)\u001b[49m\n\u001b[1;32m    195\u001b[0m \u001b[38;5;66;03m# Begin Message Forward Hook ###########################################\u001b[39;00m\n\u001b[1;32m    196\u001b[0m \u001b[38;5;28;01mif\u001b[39;00m \u001b[38;5;129;01mnot\u001b[39;00m torch\u001b[38;5;241m.\u001b[39mjit\u001b[38;5;241m.\u001b[39mis_scripting() \u001b[38;5;129;01mand\u001b[39;00m \u001b[38;5;129;01mnot\u001b[39;00m is_compiling():\n",
      "File \u001b[0;32m~/Desktop/PONS_GCNN/utils/GN_models.py:454\u001b[0m, in \u001b[0;36mGNClassifier.message\u001b[0;34m(self, x_i, x_j)\u001b[0m\n\u001b[1;32m    442\u001b[0m \u001b[38;5;250m\u001b[39m\u001b[38;5;124;03m\"\"\"\u001b[39;00m\n\u001b[1;32m    443\u001b[0m \u001b[38;5;124;03mCompute messages from source (x_j) to target (x_i).\u001b[39;00m\n\u001b[1;32m    444\u001b[0m \n\u001b[0;32m   (...)\u001b[0m\n\u001b[1;32m    450\u001b[0m \u001b[38;5;124;03m    Tensor: Computed messages.\u001b[39;00m\n\u001b[1;32m    451\u001b[0m \u001b[38;5;124;03m\"\"\"\u001b[39;00m\n\u001b[1;32m    452\u001b[0m \u001b[38;5;66;03m# Compute L1 norm for regularization\u001b[39;00m\n\u001b[0;32m--> 454\u001b[0m message \u001b[38;5;241m=\u001b[39m \u001b[38;5;28;43mself\u001b[39;49m\u001b[38;5;241;43m.\u001b[39;49m\u001b[43medge_model\u001b[49m\u001b[43m(\u001b[49m\u001b[43mtorch\u001b[49m\u001b[38;5;241;43m.\u001b[39;49m\u001b[43mcat\u001b[49m\u001b[43m(\u001b[49m\u001b[43m[\u001b[49m\u001b[43mx_i\u001b[49m\u001b[43m,\u001b[49m\u001b[43m \u001b[49m\u001b[43mx_j\u001b[49m\u001b[43m]\u001b[49m\u001b[43m,\u001b[49m\u001b[43m \u001b[49m\u001b[43mdim\u001b[49m\u001b[38;5;241;43m=\u001b[39;49m\u001b[38;5;241;43m1\u001b[39;49m\u001b[43m)\u001b[49m\u001b[43m)\u001b[49m  \u001b[38;5;66;03m# Compute message for edge\u001b[39;00m\n\u001b[1;32m    456\u001b[0m \u001b[38;5;28mself\u001b[39m\u001b[38;5;241m.\u001b[39ml1_penalty \u001b[38;5;241m=\u001b[39m torch\u001b[38;5;241m.\u001b[39mnorm(message, p\u001b[38;5;241m=\u001b[39m\u001b[38;5;241m1\u001b[39m)  \u001b[38;5;66;03m# L1 norm of message vectors\u001b[39;00m\n\u001b[1;32m    458\u001b[0m \u001b[38;5;66;03m# Compute cosine similarity between message vectors\u001b[39;00m\n",
      "File \u001b[0;32m~/anaconda3/envs/gcnn_project/lib/python3.9/site-packages/torch/nn/modules/module.py:1553\u001b[0m, in \u001b[0;36mModule._wrapped_call_impl\u001b[0;34m(self, *args, **kwargs)\u001b[0m\n\u001b[1;32m   1551\u001b[0m     \u001b[38;5;28;01mreturn\u001b[39;00m \u001b[38;5;28mself\u001b[39m\u001b[38;5;241m.\u001b[39m_compiled_call_impl(\u001b[38;5;241m*\u001b[39margs, \u001b[38;5;241m*\u001b[39m\u001b[38;5;241m*\u001b[39mkwargs)  \u001b[38;5;66;03m# type: ignore[misc]\u001b[39;00m\n\u001b[1;32m   1552\u001b[0m \u001b[38;5;28;01melse\u001b[39;00m:\n\u001b[0;32m-> 1553\u001b[0m     \u001b[38;5;28;01mreturn\u001b[39;00m \u001b[38;5;28;43mself\u001b[39;49m\u001b[38;5;241;43m.\u001b[39;49m\u001b[43m_call_impl\u001b[49m\u001b[43m(\u001b[49m\u001b[38;5;241;43m*\u001b[39;49m\u001b[43margs\u001b[49m\u001b[43m,\u001b[49m\u001b[43m \u001b[49m\u001b[38;5;241;43m*\u001b[39;49m\u001b[38;5;241;43m*\u001b[39;49m\u001b[43mkwargs\u001b[49m\u001b[43m)\u001b[49m\n",
      "File \u001b[0;32m~/anaconda3/envs/gcnn_project/lib/python3.9/site-packages/torch/nn/modules/module.py:1562\u001b[0m, in \u001b[0;36mModule._call_impl\u001b[0;34m(self, *args, **kwargs)\u001b[0m\n\u001b[1;32m   1557\u001b[0m \u001b[38;5;66;03m# If we don't have any hooks, we want to skip the rest of the logic in\u001b[39;00m\n\u001b[1;32m   1558\u001b[0m \u001b[38;5;66;03m# this function, and just call forward.\u001b[39;00m\n\u001b[1;32m   1559\u001b[0m \u001b[38;5;28;01mif\u001b[39;00m \u001b[38;5;129;01mnot\u001b[39;00m (\u001b[38;5;28mself\u001b[39m\u001b[38;5;241m.\u001b[39m_backward_hooks \u001b[38;5;129;01mor\u001b[39;00m \u001b[38;5;28mself\u001b[39m\u001b[38;5;241m.\u001b[39m_backward_pre_hooks \u001b[38;5;129;01mor\u001b[39;00m \u001b[38;5;28mself\u001b[39m\u001b[38;5;241m.\u001b[39m_forward_hooks \u001b[38;5;129;01mor\u001b[39;00m \u001b[38;5;28mself\u001b[39m\u001b[38;5;241m.\u001b[39m_forward_pre_hooks\n\u001b[1;32m   1560\u001b[0m         \u001b[38;5;129;01mor\u001b[39;00m _global_backward_pre_hooks \u001b[38;5;129;01mor\u001b[39;00m _global_backward_hooks\n\u001b[1;32m   1561\u001b[0m         \u001b[38;5;129;01mor\u001b[39;00m _global_forward_hooks \u001b[38;5;129;01mor\u001b[39;00m _global_forward_pre_hooks):\n\u001b[0;32m-> 1562\u001b[0m     \u001b[38;5;28;01mreturn\u001b[39;00m \u001b[43mforward_call\u001b[49m\u001b[43m(\u001b[49m\u001b[38;5;241;43m*\u001b[39;49m\u001b[43margs\u001b[49m\u001b[43m,\u001b[49m\u001b[43m \u001b[49m\u001b[38;5;241;43m*\u001b[39;49m\u001b[38;5;241;43m*\u001b[39;49m\u001b[43mkwargs\u001b[49m\u001b[43m)\u001b[49m\n\u001b[1;32m   1564\u001b[0m \u001b[38;5;28;01mtry\u001b[39;00m:\n\u001b[1;32m   1565\u001b[0m     result \u001b[38;5;241m=\u001b[39m \u001b[38;5;28;01mNone\u001b[39;00m\n",
      "File \u001b[0;32m~/anaconda3/envs/gcnn_project/lib/python3.9/site-packages/torch/nn/modules/container.py:219\u001b[0m, in \u001b[0;36mSequential.forward\u001b[0;34m(self, input)\u001b[0m\n\u001b[1;32m    217\u001b[0m \u001b[38;5;28;01mdef\u001b[39;00m\u001b[38;5;250m \u001b[39m\u001b[38;5;21mforward\u001b[39m(\u001b[38;5;28mself\u001b[39m, \u001b[38;5;28minput\u001b[39m):\n\u001b[1;32m    218\u001b[0m     \u001b[38;5;28;01mfor\u001b[39;00m module \u001b[38;5;129;01min\u001b[39;00m \u001b[38;5;28mself\u001b[39m:\n\u001b[0;32m--> 219\u001b[0m         \u001b[38;5;28minput\u001b[39m \u001b[38;5;241m=\u001b[39m \u001b[43mmodule\u001b[49m\u001b[43m(\u001b[49m\u001b[38;5;28;43minput\u001b[39;49m\u001b[43m)\u001b[49m\n\u001b[1;32m    220\u001b[0m     \u001b[38;5;28;01mreturn\u001b[39;00m \u001b[38;5;28minput\u001b[39m\n",
      "File \u001b[0;32m~/anaconda3/envs/gcnn_project/lib/python3.9/site-packages/torch/nn/modules/module.py:1553\u001b[0m, in \u001b[0;36mModule._wrapped_call_impl\u001b[0;34m(self, *args, **kwargs)\u001b[0m\n\u001b[1;32m   1551\u001b[0m     \u001b[38;5;28;01mreturn\u001b[39;00m \u001b[38;5;28mself\u001b[39m\u001b[38;5;241m.\u001b[39m_compiled_call_impl(\u001b[38;5;241m*\u001b[39margs, \u001b[38;5;241m*\u001b[39m\u001b[38;5;241m*\u001b[39mkwargs)  \u001b[38;5;66;03m# type: ignore[misc]\u001b[39;00m\n\u001b[1;32m   1552\u001b[0m \u001b[38;5;28;01melse\u001b[39;00m:\n\u001b[0;32m-> 1553\u001b[0m     \u001b[38;5;28;01mreturn\u001b[39;00m \u001b[38;5;28;43mself\u001b[39;49m\u001b[38;5;241;43m.\u001b[39;49m\u001b[43m_call_impl\u001b[49m\u001b[43m(\u001b[49m\u001b[38;5;241;43m*\u001b[39;49m\u001b[43margs\u001b[49m\u001b[43m,\u001b[49m\u001b[43m \u001b[49m\u001b[38;5;241;43m*\u001b[39;49m\u001b[38;5;241;43m*\u001b[39;49m\u001b[43mkwargs\u001b[49m\u001b[43m)\u001b[49m\n",
      "File \u001b[0;32m~/anaconda3/envs/gcnn_project/lib/python3.9/site-packages/torch/nn/modules/module.py:1562\u001b[0m, in \u001b[0;36mModule._call_impl\u001b[0;34m(self, *args, **kwargs)\u001b[0m\n\u001b[1;32m   1557\u001b[0m \u001b[38;5;66;03m# If we don't have any hooks, we want to skip the rest of the logic in\u001b[39;00m\n\u001b[1;32m   1558\u001b[0m \u001b[38;5;66;03m# this function, and just call forward.\u001b[39;00m\n\u001b[1;32m   1559\u001b[0m \u001b[38;5;28;01mif\u001b[39;00m \u001b[38;5;129;01mnot\u001b[39;00m (\u001b[38;5;28mself\u001b[39m\u001b[38;5;241m.\u001b[39m_backward_hooks \u001b[38;5;129;01mor\u001b[39;00m \u001b[38;5;28mself\u001b[39m\u001b[38;5;241m.\u001b[39m_backward_pre_hooks \u001b[38;5;129;01mor\u001b[39;00m \u001b[38;5;28mself\u001b[39m\u001b[38;5;241m.\u001b[39m_forward_hooks \u001b[38;5;129;01mor\u001b[39;00m \u001b[38;5;28mself\u001b[39m\u001b[38;5;241m.\u001b[39m_forward_pre_hooks\n\u001b[1;32m   1560\u001b[0m         \u001b[38;5;129;01mor\u001b[39;00m _global_backward_pre_hooks \u001b[38;5;129;01mor\u001b[39;00m _global_backward_hooks\n\u001b[1;32m   1561\u001b[0m         \u001b[38;5;129;01mor\u001b[39;00m _global_forward_hooks \u001b[38;5;129;01mor\u001b[39;00m _global_forward_pre_hooks):\n\u001b[0;32m-> 1562\u001b[0m     \u001b[38;5;28;01mreturn\u001b[39;00m \u001b[43mforward_call\u001b[49m\u001b[43m(\u001b[49m\u001b[38;5;241;43m*\u001b[39;49m\u001b[43margs\u001b[49m\u001b[43m,\u001b[49m\u001b[43m \u001b[49m\u001b[38;5;241;43m*\u001b[39;49m\u001b[38;5;241;43m*\u001b[39;49m\u001b[43mkwargs\u001b[49m\u001b[43m)\u001b[49m\n\u001b[1;32m   1564\u001b[0m \u001b[38;5;28;01mtry\u001b[39;00m:\n\u001b[1;32m   1565\u001b[0m     result \u001b[38;5;241m=\u001b[39m \u001b[38;5;28;01mNone\u001b[39;00m\n",
      "File \u001b[0;32m~/anaconda3/envs/gcnn_project/lib/python3.9/site-packages/torch/nn/modules/linear.py:117\u001b[0m, in \u001b[0;36mLinear.forward\u001b[0;34m(self, input)\u001b[0m\n\u001b[1;32m    116\u001b[0m \u001b[38;5;28;01mdef\u001b[39;00m\u001b[38;5;250m \u001b[39m\u001b[38;5;21mforward\u001b[39m(\u001b[38;5;28mself\u001b[39m, \u001b[38;5;28minput\u001b[39m: Tensor) \u001b[38;5;241m-\u001b[39m\u001b[38;5;241m>\u001b[39m Tensor:\n\u001b[0;32m--> 117\u001b[0m     \u001b[38;5;28;01mreturn\u001b[39;00m \u001b[43mF\u001b[49m\u001b[38;5;241;43m.\u001b[39;49m\u001b[43mlinear\u001b[49m\u001b[43m(\u001b[49m\u001b[38;5;28;43minput\u001b[39;49m\u001b[43m,\u001b[49m\u001b[43m \u001b[49m\u001b[38;5;28;43mself\u001b[39;49m\u001b[38;5;241;43m.\u001b[39;49m\u001b[43mweight\u001b[49m\u001b[43m,\u001b[49m\u001b[43m \u001b[49m\u001b[38;5;28;43mself\u001b[39;49m\u001b[38;5;241;43m.\u001b[39;49m\u001b[43mbias\u001b[49m\u001b[43m)\u001b[49m\n",
      "\u001b[0;31mKeyboardInterrupt\u001b[0m: "
     ]
    }
   ],
   "source": [
    "import torch\n",
    "import torch.nn.functional as F\n",
    "import matplotlib.pyplot as plt\n",
    "from tqdm import tqdm\n",
    "from sklearn.utils.class_weight import compute_class_weight\n",
    "\n",
    "\n",
    "# Get unique classes\n",
    "unique_classes = np.unique(train_labels)\n",
    "# Compute class weights\n",
    "class_weights = compute_class_weight(class_weight=\"balanced\", classes=unique_classes, y=train_labels)\n",
    "# Convert to PyTorch tensor\n",
    "class_weights = torch.tensor(class_weights, dtype=torch.float32).to(device)\n",
    "\n",
    "# Early stopping parameters (based on validation accuracy)\n",
    "best_val_acc = 0.0\n",
    "patience = 150\n",
    "counter = 0\n",
    "\n",
    "# Lists to store losses\n",
    "train_losses = []\n",
    "val_losses = []\n",
    "\n",
    "# Training loop\n",
    "num_epochs = 150  # Set high, but will stop early if necessary\n",
    "\n",
    "\n",
    "# Define loss function and optimizer\n",
    "optimizer = torch.optim.Adam(model.parameters(), lr=0.001, weight_decay=1e-2)\n",
    "criterion = torch.nn.CrossEntropyLoss(weight=class_weights)\n",
    "# ADD LEARNING RATE SCHEDULER\n",
    "scheduler = torch.optim.lr_scheduler.StepLR(optimizer, step_size=num_epochs//5, gamma=0.5)  # Reduce LR every 50 epochs\n",
    "\n",
    "\n",
    "\n",
    "for epoch in tqdm(range(num_epochs), desc=\"Training\", total=num_epochs):\n",
    "    model.train()\n",
    "    optimizer.zero_grad()\n",
    "\n",
    "    # Forward pass\n",
    "    out = model(train_graph.x.to(device), train_graph.edge_index.to(device))\n",
    "    \n",
    "    \n",
    "    #train_loss = criterion(out, train_graph.y.to(device))\n",
    "    #train_loss = confidence_weighted_loss(out, train_graph.y.to(device), train_graph.pseudo_probs.to(device))\n",
    "    train_loss = model.loss(train_graph.to(device), augmentation=False)\n",
    "    \n",
    "    train_loss.backward()\n",
    "    optimizer.step()\n",
    "    scheduler.step() \n",
    "    \n",
    "    # Compute training accuracy\n",
    "    pred_train = out.argmax(dim=1)\n",
    "    train_acc = (pred_train == train_graph.y.to(device)).sum().item() / train_graph.y.size(0)\n",
    "\n",
    "    # Validation step\n",
    "    model.eval()\n",
    "    with torch.no_grad():\n",
    "        val_out = model(test_graph.x.to(device), test_graph.edge_index.to(device))\n",
    "\n",
    "        #val_loss = criterion(val_out, test_graph.y.to(device))\n",
    "        #val_loss = confidence_weighted_loss(val_out, test_graph.y.to(device), test_graph.pseudo_probs.to(device))\n",
    "        val_loss = model.loss(test_graph.to(device), augmentation=False)\n",
    "         \n",
    "        # Convert logits to probabilities\n",
    "        val_probs = torch.softmax(val_out, dim=1)  \n",
    "        pred_val = val_probs.argmax(dim=1)  # Get class predictions\n",
    "        # Compute validation accuracy\n",
    "        val_acc = (pred_val == test_graph.y.to(device)).sum().item() / test_graph.y.size(0)\n",
    "\n",
    "    # Store losses\n",
    "    train_losses.append(train_loss.item())\n",
    "    val_losses.append(val_loss.item())\n",
    "\n",
    "\n",
    "    print(f\"Epoch {epoch+1}, Train Loss: {train_loss.item():.4f}, Val Loss: {val_loss.item():.4f}, Train Acc: {train_acc:.2f}, Val Acc: {val_acc:.4f}\")\n",
    "\n",
    "    # Early Stopping Logic (Based on Validation Accuracy)\n",
    "    if val_acc > best_val_acc:\n",
    "        best_val_acc = val_acc\n",
    "        counter = 0\n",
    "        torch.save(model.state_dict(), \"best_gcnn.pth\")  # Save best model\n",
    "    else:\n",
    "        counter += 1\n",
    "        if counter >= patience:\n",
    "            print(f\"Stopping early at epoch {epoch+1}. Best Val Acc: {best_val_acc:.4f}\")\n",
    "            break\n",
    "\n",
    "# Plot Loss Curves\n",
    "plt.figure(figsize=(10, 5))\n",
    "plt.plot(train_losses, label=\"Train Loss\")\n",
    "plt.plot(val_losses, label=\"Validation Loss\")\n",
    "plt.xlabel(\"Epochs\")\n",
    "plt.ylabel(\"Loss\")\n",
    "plt.legend()\n",
    "plt.title(\"Training vs Validation Loss\")\n",
    "plt.show()"
   ]
  },
  {
   "cell_type": "code",
   "execution_count": 148,
   "metadata": {},
   "outputs": [
    {
     "name": "stderr",
     "output_type": "stream",
     "text": [
      "/var/folders/gk/dsypcq4n5hg6hh5qdss0ly540000gn/T/ipykernel_6356/3483976095.py:4: FutureWarning: You are using `torch.load` with `weights_only=False` (the current default value), which uses the default pickle module implicitly. It is possible to construct malicious pickle data which will execute arbitrary code during unpickling (See https://github.com/pytorch/pytorch/blob/main/SECURITY.md#untrusted-models for more details). In a future release, the default value for `weights_only` will be flipped to `True`. This limits the functions that could be executed during unpickling. Arbitrary objects will no longer be allowed to be loaded via this mode unless they are explicitly allowlisted by the user via `torch.serialization.add_safe_globals`. We recommend you start setting `weights_only=True` for any use case where you don't have full control of the loaded file. Please open an issue on GitHub for any issues related to this experimental feature.\n",
      "  model.load_state_dict(torch.load(\"best_gcnn.pth\"))\n"
     ]
    },
    {
     "name": "stdout",
     "output_type": "stream",
     "text": [
      "Test Accuracy: 0.9341\n"
     ]
    }
   ],
   "source": [
    "# Load the best model best_gcnn.pth and evaluate on the test set\n",
    "\n",
    "# Load the best model\n",
    "model.load_state_dict(torch.load(\"best_gcnn.pth\"))\n",
    "model.eval()\n",
    "\n",
    "# Test set evaluation\n",
    "with torch.no_grad():\n",
    "    test_out = model(test_graph.x.to(device), test_graph.edge_index.to(device))\n",
    "    test_probs = torch.softmax(test_out, dim=1)  # Convert logits to probabilities\n",
    "    pred_test = test_probs.argmax(dim=1)  # Get class predictions\n",
    "    test_acc = (pred_test == test_graph.y.to(device)).sum().item() / test_graph.y.size(0)\n",
    "\n",
    "    print(f\"Test Accuracy: {test_acc:.4f}\")\n",
    "    \n",
    "    "
   ]
  },
  {
   "cell_type": "code",
   "execution_count": null,
   "metadata": {},
   "outputs": [],
   "source": []
  }
 ],
 "metadata": {
  "kernelspec": {
   "display_name": "gcnn_project",
   "language": "python",
   "name": "python3"
  },
  "language_info": {
   "codemirror_mode": {
    "name": "ipython",
    "version": 3
   },
   "file_extension": ".py",
   "mimetype": "text/x-python",
   "name": "python",
   "nbconvert_exporter": "python",
   "pygments_lexer": "ipython3",
   "version": "3.9.21"
  }
 },
 "nbformat": 4,
 "nbformat_minor": 2
}
